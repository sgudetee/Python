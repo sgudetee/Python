{
  "nbformat": 4,
  "nbformat_minor": 0,
  "metadata": {
    "colab": {
      "name": "Copy of Week6_intro_to_visualization.ipynb",
      "provenance": [],
      "collapsed_sections": []
    },
    "kernelspec": {
      "name": "python3",
      "display_name": "Python 3"
    }
  },
  "cells": [
    {
      "cell_type": "markdown",
      "metadata": {
        "id": "GP-HalC3roLG",
        "colab_type": "text"
      },
      "source": [
        "# Visualization in Python\n",
        "\n",
        "In this project, we'll work through munging a data set and creating visualizations related to trends in the airline industry in the middle of the last century. You'll get started using [MatPlotLib](https://matplotlib.org/), a very powerful and popular plotting library in Python that is covered in this week's course materials."
      ]
    },
    {
      "cell_type": "code",
      "metadata": {
        "id": "qewntzwSpil5",
        "colab_type": "code",
        "outputId": "9f04ea32-b683-47ed-856e-34bf0c95d68c",
        "colab": {
          "base_uri": "https://localhost:8080/",
          "height": 119
        }
      },
      "source": [
        "# Install the pydataset package. This package gives us data sets to work with very easily\n",
        "! pip install pydataset"
      ],
      "execution_count": 0,
      "outputs": [
        {
          "output_type": "stream",
          "text": [
            "Requirement already satisfied: pydataset in /usr/local/lib/python3.6/dist-packages (0.2.0)\n",
            "Requirement already satisfied: pandas in /usr/local/lib/python3.6/dist-packages (from pydataset) (0.24.2)\n",
            "Requirement already satisfied: pytz>=2011k in /usr/local/lib/python3.6/dist-packages (from pandas->pydataset) (2018.9)\n",
            "Requirement already satisfied: numpy>=1.12.0 in /usr/local/lib/python3.6/dist-packages (from pandas->pydataset) (1.16.5)\n",
            "Requirement already satisfied: python-dateutil>=2.5.0 in /usr/local/lib/python3.6/dist-packages (from pandas->pydataset) (2.5.3)\n",
            "Requirement already satisfied: six>=1.5 in /usr/local/lib/python3.6/dist-packages (from python-dateutil>=2.5.0->pandas->pydataset) (1.12.0)\n"
          ],
          "name": "stdout"
        }
      ]
    },
    {
      "cell_type": "code",
      "metadata": {
        "id": "r3HfRWoSVIfW",
        "colab_type": "code",
        "colab": {}
      },
      "source": [
        "# The convention for importing matplotlib with an alias is \"plt\". We'll also need pandas and numpy\n",
        "\n",
        "import pandas as pd\n",
        "import matplotlib.pyplot as plt\n",
        "import numpy as np"
      ],
      "execution_count": 0,
      "outputs": []
    },
    {
      "cell_type": "markdown",
      "metadata": {
        "id": "wJt4tazuRpEL",
        "colab_type": "text"
      },
      "source": [
        "## The Air Passengers Dataset\n",
        "\n",
        "This dataset shows the number of passengers flying United States airlines by month from 1949-1960. Your job is to do various data munging operations on this dataset to clean it up and prepare it for several visualizations. You will then determine what code is needed to generate those visualizations."
      ]
    },
    {
      "cell_type": "code",
      "metadata": {
        "id": "b7JyR8TRp-mL",
        "colab_type": "code",
        "colab": {}
      },
      "source": [
        "from pydataset import data\n",
        "\n",
        "passengers = data('AirPassengers')"
      ],
      "execution_count": 0,
      "outputs": []
    },
    {
      "cell_type": "markdown",
      "metadata": {
        "id": "Za8LF_ubmIsV",
        "colab_type": "text"
      },
      "source": [
        "Ugh. When we examine the head of this datset, we can see that the years are in decimal form rather than month and year.\n",
        "\n",
        "NOTE: The times are represented by twelfths. i.e. 1949.00000 = 149 0/12 (January). 1949.083333 = 1949 1/12 (February), and so on."
      ]
    },
    {
      "cell_type": "code",
      "metadata": {
        "id": "551KQ43sQ9uf",
        "colab_type": "code",
        "outputId": "0ed76397-397b-4745-ff7b-8cf687817dfe",
        "colab": {
          "base_uri": "https://localhost:8080/",
          "height": 421
        }
      },
      "source": [
        "#passengers.head(12)\n",
        "passengers.shape\n",
        "passengers.head(12)\n",
        "#passengers['month'] = passengers.time.astype(str).str.extract('\\.(.*)').astype(float)\n",
        "#passengers['month'] = passengers.time.astype(str).str.extract('\\.(.*)')\n",
        "#df['column_name'] = df['column_name'].fillna(0).astype(int)\n",
        "#passengers['month'] = passengers['month'].fillna(0).astype(int)\n",
        "#passengers\n",
        "#os.getcwd()\n"
      ],
      "execution_count": 0,
      "outputs": [
        {
          "output_type": "execute_result",
          "data": {
            "text/html": [
              "<div>\n",
              "<style scoped>\n",
              "    .dataframe tbody tr th:only-of-type {\n",
              "        vertical-align: middle;\n",
              "    }\n",
              "\n",
              "    .dataframe tbody tr th {\n",
              "        vertical-align: top;\n",
              "    }\n",
              "\n",
              "    .dataframe thead th {\n",
              "        text-align: right;\n",
              "    }\n",
              "</style>\n",
              "<table border=\"1\" class=\"dataframe\">\n",
              "  <thead>\n",
              "    <tr style=\"text-align: right;\">\n",
              "      <th></th>\n",
              "      <th>time</th>\n",
              "      <th>AirPassengers</th>\n",
              "    </tr>\n",
              "  </thead>\n",
              "  <tbody>\n",
              "    <tr>\n",
              "      <th>1</th>\n",
              "      <td>1949.000000</td>\n",
              "      <td>112</td>\n",
              "    </tr>\n",
              "    <tr>\n",
              "      <th>2</th>\n",
              "      <td>1949.083333</td>\n",
              "      <td>118</td>\n",
              "    </tr>\n",
              "    <tr>\n",
              "      <th>3</th>\n",
              "      <td>1949.166667</td>\n",
              "      <td>132</td>\n",
              "    </tr>\n",
              "    <tr>\n",
              "      <th>4</th>\n",
              "      <td>1949.250000</td>\n",
              "      <td>129</td>\n",
              "    </tr>\n",
              "    <tr>\n",
              "      <th>5</th>\n",
              "      <td>1949.333333</td>\n",
              "      <td>121</td>\n",
              "    </tr>\n",
              "    <tr>\n",
              "      <th>6</th>\n",
              "      <td>1949.416667</td>\n",
              "      <td>135</td>\n",
              "    </tr>\n",
              "    <tr>\n",
              "      <th>7</th>\n",
              "      <td>1949.500000</td>\n",
              "      <td>148</td>\n",
              "    </tr>\n",
              "    <tr>\n",
              "      <th>8</th>\n",
              "      <td>1949.583333</td>\n",
              "      <td>148</td>\n",
              "    </tr>\n",
              "    <tr>\n",
              "      <th>9</th>\n",
              "      <td>1949.666667</td>\n",
              "      <td>136</td>\n",
              "    </tr>\n",
              "    <tr>\n",
              "      <th>10</th>\n",
              "      <td>1949.750000</td>\n",
              "      <td>119</td>\n",
              "    </tr>\n",
              "    <tr>\n",
              "      <th>11</th>\n",
              "      <td>1949.833333</td>\n",
              "      <td>104</td>\n",
              "    </tr>\n",
              "    <tr>\n",
              "      <th>12</th>\n",
              "      <td>1949.916667</td>\n",
              "      <td>118</td>\n",
              "    </tr>\n",
              "  </tbody>\n",
              "</table>\n",
              "</div>"
            ],
            "text/plain": [
              "           time  AirPassengers\n",
              "1   1949.000000            112\n",
              "2   1949.083333            118\n",
              "3   1949.166667            132\n",
              "4   1949.250000            129\n",
              "5   1949.333333            121\n",
              "6   1949.416667            135\n",
              "7   1949.500000            148\n",
              "8   1949.583333            148\n",
              "9   1949.666667            136\n",
              "10  1949.750000            119\n",
              "11  1949.833333            104\n",
              "12  1949.916667            118"
            ]
          },
          "metadata": {
            "tags": []
          },
          "execution_count": 25
        }
      ]
    },
    {
      "cell_type": "code",
      "metadata": {
        "id": "kkUMUp44mOj8",
        "colab_type": "code",
        "colab": {}
      },
      "source": [
        ""
      ],
      "execution_count": 0,
      "outputs": []
    },
    {
      "cell_type": "markdown",
      "metadata": {
        "id": "5wnzkVC4kQnc",
        "colab_type": "text"
      },
      "source": [
        "## The decimal years complicate the EDA work\n",
        "\n",
        "We need to deal with this by making explicit month and year columns. It is common to have to reformat columns like this in a dataframe"
      ]
    },
    {
      "cell_type": "markdown",
      "metadata": {
        "id": "KbRfTZMUjzuP",
        "colab_type": "text"
      },
      "source": [
        "## #1 Add a 'year' column to passengers that reflects the current year"
      ]
    },
    {
      "cell_type": "code",
      "metadata": {
        "id": "rXrQq1sTG4a_",
        "colab_type": "code",
        "outputId": "bfe8fc14-4b05-49a2-f5a7-2483d2b1e71c",
        "colab": {
          "base_uri": "https://localhost:8080/",
          "height": 359
        }
      },
      "source": [
        "from math import floor\n",
        "from math import trunc\n",
        "passengers['year'] = passengers['time'].apply(lambda x: floor(x))\n",
        "passengers.head(10)"
      ],
      "execution_count": 0,
      "outputs": [
        {
          "output_type": "execute_result",
          "data": {
            "text/html": [
              "<div>\n",
              "<style scoped>\n",
              "    .dataframe tbody tr th:only-of-type {\n",
              "        vertical-align: middle;\n",
              "    }\n",
              "\n",
              "    .dataframe tbody tr th {\n",
              "        vertical-align: top;\n",
              "    }\n",
              "\n",
              "    .dataframe thead th {\n",
              "        text-align: right;\n",
              "    }\n",
              "</style>\n",
              "<table border=\"1\" class=\"dataframe\">\n",
              "  <thead>\n",
              "    <tr style=\"text-align: right;\">\n",
              "      <th></th>\n",
              "      <th>time</th>\n",
              "      <th>AirPassengers</th>\n",
              "      <th>year</th>\n",
              "    </tr>\n",
              "  </thead>\n",
              "  <tbody>\n",
              "    <tr>\n",
              "      <th>1</th>\n",
              "      <td>1949.000000</td>\n",
              "      <td>112</td>\n",
              "      <td>1949</td>\n",
              "    </tr>\n",
              "    <tr>\n",
              "      <th>2</th>\n",
              "      <td>1949.083333</td>\n",
              "      <td>118</td>\n",
              "      <td>1949</td>\n",
              "    </tr>\n",
              "    <tr>\n",
              "      <th>3</th>\n",
              "      <td>1949.166667</td>\n",
              "      <td>132</td>\n",
              "      <td>1949</td>\n",
              "    </tr>\n",
              "    <tr>\n",
              "      <th>4</th>\n",
              "      <td>1949.250000</td>\n",
              "      <td>129</td>\n",
              "      <td>1949</td>\n",
              "    </tr>\n",
              "    <tr>\n",
              "      <th>5</th>\n",
              "      <td>1949.333333</td>\n",
              "      <td>121</td>\n",
              "      <td>1949</td>\n",
              "    </tr>\n",
              "    <tr>\n",
              "      <th>6</th>\n",
              "      <td>1949.416667</td>\n",
              "      <td>135</td>\n",
              "      <td>1949</td>\n",
              "    </tr>\n",
              "    <tr>\n",
              "      <th>7</th>\n",
              "      <td>1949.500000</td>\n",
              "      <td>148</td>\n",
              "      <td>1949</td>\n",
              "    </tr>\n",
              "    <tr>\n",
              "      <th>8</th>\n",
              "      <td>1949.583333</td>\n",
              "      <td>148</td>\n",
              "      <td>1949</td>\n",
              "    </tr>\n",
              "    <tr>\n",
              "      <th>9</th>\n",
              "      <td>1949.666667</td>\n",
              "      <td>136</td>\n",
              "      <td>1949</td>\n",
              "    </tr>\n",
              "    <tr>\n",
              "      <th>10</th>\n",
              "      <td>1949.750000</td>\n",
              "      <td>119</td>\n",
              "      <td>1949</td>\n",
              "    </tr>\n",
              "  </tbody>\n",
              "</table>\n",
              "</div>"
            ],
            "text/plain": [
              "           time  AirPassengers  year\n",
              "1   1949.000000            112  1949\n",
              "2   1949.083333            118  1949\n",
              "3   1949.166667            132  1949\n",
              "4   1949.250000            129  1949\n",
              "5   1949.333333            121  1949\n",
              "6   1949.416667            135  1949\n",
              "7   1949.500000            148  1949\n",
              "8   1949.583333            148  1949\n",
              "9   1949.666667            136  1949\n",
              "10  1949.750000            119  1949"
            ]
          },
          "metadata": {
            "tags": []
          },
          "execution_count": 26
        }
      ]
    },
    {
      "cell_type": "markdown",
      "metadata": {
        "id": "1oVHWw-XkIKi",
        "colab_type": "text"
      },
      "source": [
        "## #2 Add a \"month\" column\n",
        "\n",
        "Set this up in such a way that January is represented with a 1, February with a 2, etc."
      ]
    },
    {
      "cell_type": "code",
      "metadata": {
        "id": "Mq7K5d33GvCx",
        "colab_type": "code",
        "colab": {}
      },
      "source": [
        "# Next, I'll create a new dataframe with the months and their decimal equivalents.\n",
        "# I'll join that back on the original dataframe.\n",
        "\n",
        "def truncate(x):\n",
        "  x_trunc = x - floor(x)\n",
        "  x_trunc = round(x_trunc,2)\n",
        "  return(x_trunc)\n",
        "\n",
        "passengers['decimal_month'] = passengers['time'].apply(lambda x: truncate(x))"
      ],
      "execution_count": 0,
      "outputs": []
    },
    {
      "cell_type": "code",
      "metadata": {
        "id": "3OzG-MQAHhZA",
        "colab_type": "code",
        "colab": {}
      },
      "source": [
        "df_months = pd.DataFrame()\n",
        "df_months['decimal_month'] = passengers['decimal_month'][0:12]\n",
        "df_months['month'] = list(range(12))\n",
        "df_months['month'] +=1\n",
        "df_months['month_name'] = ['January', 'Februray', 'March', 'April', 'May', \n",
        "                           'June', 'July', 'August', 'September', 'October',\n",
        "                           'November', 'December']"
      ],
      "execution_count": 0,
      "outputs": []
    },
    {
      "cell_type": "code",
      "metadata": {
        "id": "9XUXXJlCH2b2",
        "colab_type": "code",
        "outputId": "2ace5bfa-59a2-44b6-ceff-8b689de2b4c4",
        "colab": {
          "base_uri": "https://localhost:8080/",
          "height": 204
        }
      },
      "source": [
        "passengers = passengers.join(df_months.set_index('decimal_month'), on='decimal_month')\n",
        "passengers.head()"
      ],
      "execution_count": 0,
      "outputs": [
        {
          "output_type": "execute_result",
          "data": {
            "text/html": [
              "<div>\n",
              "<style scoped>\n",
              "    .dataframe tbody tr th:only-of-type {\n",
              "        vertical-align: middle;\n",
              "    }\n",
              "\n",
              "    .dataframe tbody tr th {\n",
              "        vertical-align: top;\n",
              "    }\n",
              "\n",
              "    .dataframe thead th {\n",
              "        text-align: right;\n",
              "    }\n",
              "</style>\n",
              "<table border=\"1\" class=\"dataframe\">\n",
              "  <thead>\n",
              "    <tr style=\"text-align: right;\">\n",
              "      <th></th>\n",
              "      <th>time</th>\n",
              "      <th>AirPassengers</th>\n",
              "      <th>year</th>\n",
              "      <th>decimal_month</th>\n",
              "      <th>month</th>\n",
              "      <th>month_name</th>\n",
              "    </tr>\n",
              "  </thead>\n",
              "  <tbody>\n",
              "    <tr>\n",
              "      <th>1</th>\n",
              "      <td>1949.000000</td>\n",
              "      <td>112</td>\n",
              "      <td>1949</td>\n",
              "      <td>0.00</td>\n",
              "      <td>1</td>\n",
              "      <td>January</td>\n",
              "    </tr>\n",
              "    <tr>\n",
              "      <th>2</th>\n",
              "      <td>1949.083333</td>\n",
              "      <td>118</td>\n",
              "      <td>1949</td>\n",
              "      <td>0.08</td>\n",
              "      <td>2</td>\n",
              "      <td>Februray</td>\n",
              "    </tr>\n",
              "    <tr>\n",
              "      <th>3</th>\n",
              "      <td>1949.166667</td>\n",
              "      <td>132</td>\n",
              "      <td>1949</td>\n",
              "      <td>0.17</td>\n",
              "      <td>3</td>\n",
              "      <td>March</td>\n",
              "    </tr>\n",
              "    <tr>\n",
              "      <th>4</th>\n",
              "      <td>1949.250000</td>\n",
              "      <td>129</td>\n",
              "      <td>1949</td>\n",
              "      <td>0.25</td>\n",
              "      <td>4</td>\n",
              "      <td>April</td>\n",
              "    </tr>\n",
              "    <tr>\n",
              "      <th>5</th>\n",
              "      <td>1949.333333</td>\n",
              "      <td>121</td>\n",
              "      <td>1949</td>\n",
              "      <td>0.33</td>\n",
              "      <td>5</td>\n",
              "      <td>May</td>\n",
              "    </tr>\n",
              "  </tbody>\n",
              "</table>\n",
              "</div>"
            ],
            "text/plain": [
              "          time  AirPassengers  year  decimal_month  month month_name\n",
              "1  1949.000000            112  1949           0.00      1    January\n",
              "2  1949.083333            118  1949           0.08      2   Februray\n",
              "3  1949.166667            132  1949           0.17      3      March\n",
              "4  1949.250000            129  1949           0.25      4      April\n",
              "5  1949.333333            121  1949           0.33      5        May"
            ]
          },
          "metadata": {
            "tags": []
          },
          "execution_count": 29
        }
      ]
    },
    {
      "cell_type": "markdown",
      "metadata": {
        "id": "utfFu-ZEmWqC",
        "colab_type": "text"
      },
      "source": [
        "## #3 Generate the plot below of passengers vs. time using each monthly count"
      ]
    },
    {
      "cell_type": "markdown",
      "metadata": {
        "id": "k1GXeWFrvRu3",
        "colab_type": "text"
      },
      "source": [
        "<a href='https://drive.google.com/file/d/1PdaXbkCVzUXBnUP6c6cLP3nZ94ShSLg1/view?usp=embed_facebook&source=ctrlq.org'><img src='https://lh4.googleusercontent.com/7EHckqyjefS7rN8-gAtj2SgSyKfV3wlTnGKqCwzOf85F6NYlqYQbz7bDfWw=w2400' /></a>"
      ]
    },
    {
      "cell_type": "code",
      "metadata": {
        "id": "APF9JtW9jWTL",
        "colab_type": "code",
        "outputId": "78d89f16-fcaa-431d-d4de-04894b89343e",
        "colab": {
          "base_uri": "https://localhost:8080/",
          "height": 295
        }
      },
      "source": [
        "passengers.head(5)\n",
        "plt.plot(passengers['AirPassengers'])\n",
        "plt.title(\"Number of Airline Passengers 1949-1960\")\n",
        "plt.ylabel(\"Hundreds of thousands\")\n",
        "plt.xlabel(\"Month\")\n",
        "plt.show()"
      ],
      "execution_count": 0,
      "outputs": [
        {
          "output_type": "display_data",
          "data": {
            "image/png": "[encoded data removed]",
            "text/plain": [
              "<Figure size 432x288 with 1 Axes>"
            ]
          },
          "metadata": {
            "tags": []
          }
        }
      ]
    },
    {
      "cell_type": "markdown",
      "metadata": {
        "id": "TBN2gDr0mirA",
        "colab_type": "text"
      },
      "source": [
        "## #4 Generate the plot below of passengers vs. time using an annual count"
      ]
    },
    {
      "cell_type": "markdown",
      "metadata": {
        "id": "ZbBkmkqGhXDM",
        "colab_type": "text"
      },
      "source": [
        "<a href='https://drive.google.com/file/d/19WYHQR7sFgaeN5ZHlwx5x1-o-wxJ4weW/view?usp=sharing&amp;usp=embed_facebook&source=ctrlq.org'><img src='https://lh4.googleusercontent.com/2gbHNgm8UhbCEevaUBpMUSvVgk_6QuxMASqn9-wK1NdzrDXrcF-VIWK_o08=w2400' /></a>"
      ]
    },
    {
      "cell_type": "code",
      "metadata": {
        "id": "hm5yM1ZRchcP",
        "colab_type": "code",
        "outputId": "9c3af111-2f2d-40e0-d983-fd73ddd618b5",
        "colab": {
          "base_uri": "https://localhost:8080/",
          "height": 312
        }
      },
      "source": [
        "# TODO\n",
        "# Passengers vs time by year\n",
        "passengers_yearly = passengers.groupby('year').sum()[['AirPassengers']]\n",
        "plt.plot(passengers_yearly['AirPassengers'])\n",
        "plt.title(\"Number of Airline Passengers 1949-1960\")\n",
        "plt.ylabel(\"Hundreds of thousands\")\n",
        "plt.xlabel(\"Year\")\n"
      ],
      "execution_count": 0,
      "outputs": [
        {
          "output_type": "execute_result",
          "data": {
            "text/plain": [
              "Text(0.5, 0, 'Year')"
            ]
          },
          "metadata": {
            "tags": []
          },
          "execution_count": 34
        },
        {
          "output_type": "display_data",
          "data": {
            "image/png": "[encoded data removed]",
            "text/plain": [
              "<Figure size 432x288 with 1 Axes>"
            ]
          },
          "metadata": {
            "tags": []
          }
        }
      ]
    },
    {
      "cell_type": "markdown",
      "metadata": {
        "id": "UhgoE32QmvOT",
        "colab_type": "text"
      },
      "source": [
        "## #5 Generate the barplot below of passengers by year"
      ]
    },
    {
      "cell_type": "markdown",
      "metadata": {
        "id": "Uzx6rfephZfH",
        "colab_type": "text"
      },
      "source": [
        "<a href='https://drive.google.com/file/d/1-4NF40zvVhwi6RWagJu98BaBuDNOXaEd/view?usp=sharing&amp;usp=embed_facebook&source=ctrlq.org'><img src='https://lh6.googleusercontent.com/IQRk35KApDIxYtHGH3WoczLnCvHCRdMNlHw64rgLWPYUostOoAn2hxp8lZA=w2400' /></a>"
      ]
    },
    {
      "cell_type": "code",
      "metadata": {
        "id": "EiQRmMUrhqc_",
        "colab_type": "code",
        "outputId": "809567cb-3352-4292-9f06-1a51396e3c50",
        "colab": {
          "base_uri": "https://localhost:8080/",
          "height": 312
        }
      },
      "source": [
        "plt.bar(x = passengers_yearly.index, height = passengers_yearly['AirPassengers'])\n",
        "plt.title(\"Number of Airline Passengers 1949-1960\")\n",
        "plt.ylabel(\"Hundreds of thousands\")\n",
        "plt.xlabel(\"Year\")"
      ],
      "execution_count": 0,
      "outputs": [
        {
          "output_type": "execute_result",
          "data": {
            "text/plain": [
              "Text(0.5, 0, 'Year')"
            ]
          },
          "metadata": {
            "tags": []
          },
          "execution_count": 35
        },
        {
          "output_type": "display_data",
          "data": {
            "image/png": "[encoded data removed]",
            "text/plain": [
              "<Figure size 432x288 with 1 Axes>"
            ]
          },
          "metadata": {
            "tags": []
          }
        }
      ]
    },
    {
      "cell_type": "markdown",
      "metadata": {
        "id": "E_nSuT-lm2eD",
        "colab_type": "text"
      },
      "source": [
        "## #6 Generate the histogram below of monthly passengers\n",
        "\n",
        "**Additional requirements:**\n",
        "\n",
        "* Only include 1955 and beyond\n",
        "* Use a binwidth of 50, a min of 200, and a max of 700\n",
        "* Set the yticks to start at 0, end at 25 by interval of 5"
      ]
    },
    {
      "cell_type": "code",
      "metadata": {
        "id": "L6kRg_bIN9uK",
        "colab_type": "code",
        "colab": {}
      },
      "source": [
        "#matplotlib.rcParams['figure.figsize'] = [12.0, 8.0]\n",
        "N_points = 100000\n",
        "n_bins = 200\n",
        "\n",
        "# Generate a normal distribution, center at x=0 and y=5\n",
        "#x = np.random.randn(N_points)\n",
        "#y = .4 * x + np.random.randn(100000) + 5\n",
        "\n",
        "x = Year\n",
        "y = Airpassenger_yr_sum\n",
        "\n",
        "fig, axs = plt.subplots(1, 2, sharey=True, tight_layout=True)\n",
        "\n",
        "# We can set the number of bins with the `bins` kwarg\n",
        "axs[0].hist(x, bins=n_bins)\n",
        "axs[1].hist(y, bins=n_bins)\n",
        "data1 ={'Year': [1955, 1956, 1957, 1958, 1959, 1960], 'Airpassenger_yr_sum': [3408, 3939, 4421, 4572, 5140, 5741]}\n",
        "df1 = pd.DataFrame(data1) \n",
        "df1.plot(x ='Airpassenger_yr_sum', y='Year', kind = 'hist')\n",
        "#from datetime import datetime\n",
        "#start_date = datetime(1955, 1, 1)\n",
        "#end_date = datetime(1960, 12, 1)\n",
        "#date_set[(start_date <=data_set.index ) & (data_set.index <= end_date)].plot(grid=True)\n",
        "\n"
      ],
      "execution_count": 0,
      "outputs": []
    },
    {
      "cell_type": "code",
      "metadata": {
        "id": "m4-S1byhJAry",
        "colab_type": "code",
        "outputId": "f3a3a13f-4b43-4125-83f8-80aae5db7643",
        "colab": {
          "base_uri": "https://localhost:8080/",
          "height": 312
        }
      },
      "source": [
        "bins = np.arange(200, 700, 50)\n",
        "yticks = np.arange(0, 25, 5) \n",
        "plt.hist(passengers['AirPassengers'][passengers['year']>=1955], bins = bins)\n",
        "plt.yticks(yticks)\n",
        "plt.title(\"Distribution of Monthly Airline Passengers 1955-1960\")\n",
        "plt.ylabel(\"Count\")\n",
        "plt.xlabel(\"Hundreds of thousands\")"
      ],
      "execution_count": 0,
      "outputs": [
        {
          "output_type": "execute_result",
          "data": {
            "text/plain": [
              "Text(0.5, 0, 'Hundreds of thousands')"
            ]
          },
          "metadata": {
            "tags": []
          },
          "execution_count": 37
        },
        {
          "output_type": "display_data",
          "data": {
            "image/png": "[encoded data removed]",
            "text/plain": [
              "<Figure size 432x288 with 1 Axes>"
            ]
          },
          "metadata": {
            "tags": []
          }
        }
      ]
    },
    {
      "cell_type": "markdown",
      "metadata": {
        "id": "722_suwhjTn7",
        "colab_type": "text"
      },
      "source": [
        "<a href='https://drive.google.com/file/d/1mEtvUbnh2LcDDc73LNr_qX984HzgyhiQ/view?usp=sharing&amp;usp=embed_facebook&source=ctrlq.org'><img src='https://lh6.googleusercontent.com/7I2FzRPSQPyoalFcwH3vTDeB9Gf80OUlaZOs1x9oRRYyQLlHXPU9H-NhSVQ=w2400' /></a>"
      ]
    },
    {
      "cell_type": "code",
      "metadata": {
        "id": "ftWwUO2xchgS",
        "colab_type": "code",
        "colab": {}
      },
      "source": [
        "# TODO"
      ],
      "execution_count": 0,
      "outputs": []
    },
    {
      "cell_type": "markdown",
      "metadata": {
        "id": "3hjNa7QanRw9",
        "colab_type": "text"
      },
      "source": [
        "## #7 Generate the histogram below of monthly passengers\n",
        "\n",
        "**Additional requirements:**\n",
        "\n",
        "* Generate two groups to compare. Group 1 should be the years 1949-1950. Group 2 should be the years 1959-60.\n",
        "* Binwidth of 50 from 100 to 700\n",
        "* yticks from 0 to 24, spaced by 2\n",
        "* Be sure to include a legend"
      ]
    },
    {
      "cell_type": "markdown",
      "metadata": {
        "id": "ngsm2iZDjxOY",
        "colab_type": "text"
      },
      "source": [
        "<a href='https://drive.google.com/file/d/1gqJbBVOPIurYikUIDpXoAF3gZx2p8lUA/view?usp=sharing&amp;usp=embed_facebook&source=ctrlq.org'><img src='https://lh3.googleusercontent.com/Ok91nFY8Srjn1FpVwOil9ycH9y6isZejTqi7hifqaEA5E3tWpkwldWVLo3U=w2400' /></a>"
      ]
    },
    {
      "cell_type": "code",
      "metadata": {
        "id": "rPa1CQzrchk7",
        "colab_type": "code",
        "outputId": "93454c37-75f4-4cea-e2f1-4c5675ec7edc",
        "colab": {
          "base_uri": "https://localhost:8080/",
          "height": 295
        }
      },
      "source": [
        "# TODO\n",
        "# Histogram of passengers comparing two years\n",
        "passengers_49_50 = passengers[passengers['year'] <= 1950] \n",
        "passengers_59_60 = passengers[passengers['year'] >= 1959]\n",
        "\n",
        "\n",
        "bins = np.arange(100, 700, 50)\n",
        "yticks = np.arange(0, 24, 2) \n",
        "\n",
        "plt.hist(passengers_49_50['AirPassengers'], bins, alpha=0.5, label='1949-50')\n",
        "plt.hist(passengers_59_60['AirPassengers'], bins, alpha=0.5, label='1959-60')\n",
        "plt.legend(loc='upper right')\n",
        "plt.yticks(yticks)\n",
        "plt.title(\"Air passenger distributions, beginning and end of decade\")\n",
        "plt.ylabel(\"Count\")\n",
        "plt.xlabel(\"Hundreds of thousands\")\n",
        "plt.show()"
      ],
      "execution_count": 0,
      "outputs": [
        {
          "output_type": "display_data",
          "data": {
            "image/png": "[encoded data removed]",
            "text/plain": [
              "<Figure size 432x288 with 1 Axes>"
            ]
          },
          "metadata": {
            "tags": []
          }
        }
      ]
    },
    {
      "cell_type": "markdown",
      "metadata": {
        "id": "fpdrlfEhnijm",
        "colab_type": "text"
      },
      "source": [
        "## #8 Generate the time plot below\n",
        "\n",
        "**Additional requirements:**\n",
        "\n",
        "* Compare 1950, 1955, and 1960 by month"
      ]
    },
    {
      "cell_type": "markdown",
      "metadata": {
        "id": "dUKGfwnWksbP",
        "colab_type": "text"
      },
      "source": [
        "<a href='https://drive.google.com/file/d/11nVH5EiYxxtJ48isS9VLtwLIjn0hALXV/view?usp=sharing&amp;usp=embed_facebook&source=ctrlq.org'><img src='https://lh3.googleusercontent.com/SKfWqBE324A__VS8V-TBqMQXHWE9OUjVoJyeyJME8uJzyfWS73aaCms7A3c=w2400' /></a>"
      ]
    },
    {
      "cell_type": "code",
      "metadata": {
        "id": "lRzhSibJkCWZ",
        "colab_type": "code",
        "colab": {}
      },
      "source": [
        "# TODO\n",
        "passengers_50 = passengers[passengers['year'] == 1950] \n",
        "passengers_55 = passengers[passengers['year'] == 1955]\n",
        "passengers_60 = passengers[passengers['year'] == 1960]"
      ],
      "execution_count": 0,
      "outputs": []
    },
    {
      "cell_type": "code",
      "metadata": {
        "id": "PyH7G9M9Jen1",
        "colab_type": "code",
        "outputId": "6c89d61b-d25f-4820-99e6-1c0f67a3b06d",
        "colab": {
          "base_uri": "https://localhost:8080/",
          "height": 295
        }
      },
      "source": [
        "plt.plot(passengers_50['month'], passengers_50['AirPassengers'], label='1950')\n",
        "plt.plot(passengers_55['month'], passengers_55['AirPassengers'], label='1955')\n",
        "plt.plot(passengers_60['month'], passengers_60['AirPassengers'], label='1960')\n",
        "plt.legend(loc='upper right')\n",
        "plt.title(\"Air passengers by month: beginning, mid, end of decade\")\n",
        "plt.ylabel(\"Hundreds of thousands\")\n",
        "plt.xlabel(\"Month\")\n",
        "plt.show()"
      ],
      "execution_count": 0,
      "outputs": [
        {
          "output_type": "display_data",
          "data": {
            "image/png": "[encoded data removed]",
            "text/plain": [
              "<Figure size 432x288 with 1 Axes>"
            ]
          },
          "metadata": {
            "tags": []
          }
        }
      ]
    },
    {
      "cell_type": "markdown",
      "metadata": {
        "id": "m-Kq84DKpRdy",
        "colab_type": "text"
      },
      "source": [
        "## #9 Tell a story\n",
        "\n",
        "* If you could only use one of these plots to tell a story about air travel trends mid-centry, which would you use and why?\n"
      ]
    },
    {
      "cell_type": "code",
      "metadata": {
        "id": "-kNtGYNYlS88",
        "colab_type": "code",
        "colab": {}
      },
      "source": [
        "#1.The count of passengers grow year over year\n",
        "#2.The number of passenger from 1949-1960 grow every year and there is no decline in the number of people travel during this period.\n",
        "#3. The histogram is skewed to the right for the passengers, the mean is 20 and the median is 10 count for the year 1955- 1960.\n",
        "#4. For the end of the decade histogram comparison  1949 -1950 passengers is higher compared to the 1959 -1960 during that decade\n",
        "#5. The line graph For the years in 1950 , 1955, 1960 the data shows that during the month of Jun, July and August has the higher number passengers travel.\n",
        "\n"
      ],
      "execution_count": 0,
      "outputs": []
    },
    {
      "cell_type": "code",
      "metadata": {
        "id": "3OEXegrnQhKp",
        "colab_type": "code",
        "colab": {}
      },
      "source": [
        "# TODO\n",
        "! pwd"
      ],
      "execution_count": 0,
      "outputs": []
    }
  ]
}