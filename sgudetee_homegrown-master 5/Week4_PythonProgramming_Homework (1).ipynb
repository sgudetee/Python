{
  "nbformat": 4,
  "nbformat_minor": 0,
  "metadata": {
    "kernelspec": {
      "display_name": "Python 3",
      "language": "python",
      "name": "python3"
    },
    "language_info": {
      "codemirror_mode": {
        "name": "ipython",
        "version": 3
      },
      "file_extension": ".py",
      "mimetype": "text/x-python",
      "name": "python",
      "nbconvert_exporter": "python",
      "pygments_lexer": "ipython3",
      "version": "3.7.3"
    },
    "colab": {
      "name": "Week4_PythonProgramming_Homework.ipynb",
      "version": "0.3.2",
      "provenance": []
    }
  },
  "cells": [
    {
      "cell_type": "markdown",
      "metadata": {
        "id": "jD8LaNTU53iV",
        "colab_type": "text"
      },
      "source": [
        "# Week4 Python Programming"
      ]
    },
    {
      "cell_type": "markdown",
      "metadata": {
        "id": "hqiB52YR53iW",
        "colab_type": "text"
      },
      "source": [
        "In week4, we've covered:\n",
        "* **Descriptive Statistics**:\n",
        "    * mean\n",
        "    * median\n",
        "    * mode\n",
        "    * variance\n",
        "    * covariance\n",
        "\n",
        "    \n",
        "* **Matrix**:\n",
        "    * python NumPy package"
      ]
    },
    {
      "cell_type": "markdown",
      "metadata": {
        "id": "8niwVGwD53iX",
        "colab_type": "text"
      },
      "source": [
        "The best way to consolidate the knowledge in your mind is by practicing.<br>Please complete the part marked with <span style=\"color:green\">**# TODO**</span>.\n",
        "\n",
        "[Google](www.google.com) and [Python Documentation](https://docs.python.org/3/contents.html) are your good friends if you have any python questions.\n",
        "\n",
        "Upload **Week4_PythonProgramming_Homework.ipynb** notebook to your Google Drive and open it with Google Colab."
      ]
    },
    {
      "cell_type": "markdown",
      "metadata": {
        "id": "GKYdoWRW53iX",
        "colab_type": "text"
      },
      "source": [
        "## Basics of NumPy Array\n",
        "\n",
        "[Numpy Documentation](https://numpy.org/)"
      ]
    },
    {
      "cell_type": "markdown",
      "metadata": {
        "id": "GG42hDeo53iY",
        "colab_type": "text"
      },
      "source": [
        "### 1. Array Attributes"
      ]
    },
    {
      "cell_type": "markdown",
      "metadata": {
        "id": "7p1n7YPD53iZ",
        "colab_type": "text"
      },
      "source": [
        "Import numpy and use `numpy.random.randint()` to create three random arrays:\n",
        "* one-dimendional array\n",
        "* two-dimensional array\n",
        "* three-dimensional array"
      ]
    },
    {
      "cell_type": "code",
      "metadata": {
        "id": "dVTjnZsq53iZ",
        "colab_type": "code",
        "colab": {
          "base_uri": "https://localhost:8080/",
          "height": 204
        },
        "outputId": "7fc3771a-6c79-45d7-b167-6b5cd8ae7abd"
      },
      "source": [
        "# TODO\n",
        "#one_array = _____\n",
        "#two_array = _____\n",
        "#three_array = _____\n",
        "# output array \n",
        "import numpy as ds \n",
        "one_array = ds.random.randint(low = 0, high = 5, size = 10) \n",
        "two_array = ds.random.randint(low = 5, size =(3, 6)) \n",
        "three_array = ds.random.randint(2, 10, (2, 3, 4))  \n",
        "print (\"Output 1D Array filled with random integers : \", one_array)  \n",
        "print (\"Output 2D Array filled with random integers : \", two_array)\n",
        "print (\"Output 3D Array filled with random integers : \", three_array) \n"
      ],
      "execution_count": 2,
      "outputs": [
        {
          "output_type": "stream",
          "text": [
            "Output 1D Array filled with random integers :  [0 0 3 2 2 3 3 0 0 2]\n",
            "Output 2D Array filled with random integers :  [[4 3 0 1 3 2]\n",
            " [0 3 2 3 4 2]\n",
            " [3 4 2 1 3 3]]\n",
            "Output 3D Array filled with random integers :  [[[9 7 5 8]\n",
            "  [4 6 8 6]\n",
            "  [3 2 4 9]]\n",
            "\n",
            " [[8 6 2 5]\n",
            "  [5 6 8 6]\n",
            "  [2 5 7 8]]]\n"
          ],
          "name": "stdout"
        }
      ]
    },
    {
      "cell_type": "markdown",
      "metadata": {
        "id": "2dhyzyM253ic",
        "colab_type": "text"
      },
      "source": [
        "Check the `ndim`, `shape` and `size` of above three arrays."
      ]
    },
    {
      "cell_type": "code",
      "metadata": {
        "id": "Ubz8uDxK53ic",
        "colab_type": "code",
        "colab": {
          "base_uri": "https://localhost:8080/",
          "height": 51
        },
        "outputId": "5e862d4d-16e7-44e4-e69b-8d8e4cf929ae"
      },
      "source": [
        "# TODO\n",
        "import numpy as np \n",
        "array = np.array([3, 1, 3, 2, 1, 4, 2, 4, 4, 1 ]) \n",
        "# Printing shape of array \n",
        "print(\"Shape of array: \", array.shape)  \n",
        "# Printing size (total number of elements) of array \n",
        "print(\"Size of array: \", array.size) \n",
        "#Check the two dim, shape and size of above three arrays.\n",
        "\n",
        "array = np.array( [[ 2, 4, 4], \n",
        "                 [ 2, 1, 4]] ) \n",
        "\n",
        "  \n",
        "# Printing shape of array \n",
        "print(\"Shape of array: \", array.shape) \n",
        "  \n",
        "# Printing size (total number of elements) of array \n",
        "print(\"Size of array: \", array.size) \n"
      ],
      "execution_count": 4,
      "outputs": [
        {
          "output_type": "stream",
          "text": [
            "Shape of array:  (10,)\n",
            "Size of array:  10\n"
          ],
          "name": "stdout"
        }
      ]
    },
    {
      "cell_type": "code",
      "metadata": {
        "id": "Fne-6peh3aFq",
        "colab_type": "code",
        "colab": {
          "base_uri": "https://localhost:8080/",
          "height": 51
        },
        "outputId": "fbb2f244-e667-4bc4-c828-5a66d945c107"
      },
      "source": [
        "#Check the two dim, shape and size of above three arrays.\n",
        "import numpy as np \n",
        "array = np.array( [[ 2, 4, 4], \n",
        "                 [ 2, 1, 4]] ) \n",
        "\n",
        "  \n",
        "# Printing shape of array \n",
        "print(\"Shape of array: \", array.shape) \n",
        "  \n",
        "# Printing size (total number of elements) of array \n",
        "print(\"Size of array: \", array.size) "
      ],
      "execution_count": 17,
      "outputs": [
        {
          "output_type": "stream",
          "text": [
            "Shape of array:  (2, 3)\n",
            "Size of array:  6\n"
          ],
          "name": "stdout"
        }
      ]
    },
    {
      "cell_type": "markdown",
      "metadata": {
        "id": "_QGZ6u1j53if",
        "colab_type": "text"
      },
      "source": [
        "Create a length-5 **interger** array filled with zeros, a length-5 **float** arrays filled with ones."
      ]
    },
    {
      "cell_type": "code",
      "metadata": {
        "id": "R8dkauLzu0qq",
        "colab_type": "code",
        "colab": {}
      },
      "source": [
        "# TODO\n",
        "# create arrays\n",
        "zeros_array = np.zeros(5).astype(int)\n",
        "ones_array = np.ones(5)\n",
        "\n",
        "# check arrays' data type\n",
        "assert str(zeros_array.dtype) == 'int64'\n",
        "assert str(ones_array.dtype) == 'float64' "
      ],
      "execution_count": 0,
      "outputs": []
    },
    {
      "cell_type": "code",
      "metadata": {
        "id": "LtlOh7fy53if",
        "colab_type": "code",
        "colab": {}
      },
      "source": [
        "# TODO\n",
        "zeros_array = _____\n",
        "ones_array = _____\n",
        "\n",
        "assert str(zeros_array.dtype) == 'int64'\n",
        "assert str(ones_array.dtype) == 'float64' "
      ],
      "execution_count": 0,
      "outputs": []
    },
    {
      "cell_type": "markdown",
      "metadata": {
        "id": "ZqCc84sy53ii",
        "colab_type": "text"
      },
      "source": [
        "Create an interger array of 6 values evenly spaced between 10 and 20. \n",
        "Hint: use `linspace` and `astype`."
      ]
    },
    {
      "cell_type": "code",
      "metadata": {
        "id": "lfLsUqfv53ii",
        "colab_type": "code",
        "colab": {
          "base_uri": "https://localhost:8080/",
          "height": 51
        },
        "outputId": "2fe891c0-2004-4ee5-d9ff-25b247a2e108"
      },
      "source": [
        "# TODO\n",
        "import numpy as np   \n",
        "# create array\n",
        "values = np.linspace(10, 20, 6).astype(int)\n",
        "\n",
        "# check array\n",
        "print('value =', values)\n",
        "print('value and data type: ', values.dtype)\n",
        "\n",
        "\n"
      ],
      "execution_count": 27,
      "outputs": [
        {
          "output_type": "stream",
          "text": [
            "value = [10 12 14 16 18 20]\n",
            "value and data type:  int64\n"
          ],
          "name": "stdout"
        }
      ]
    },
    {
      "cell_type": "markdown",
      "metadata": {
        "id": "AZqSd74A53il",
        "colab_type": "text"
      },
      "source": [
        "### 2. Indexing and Slicing"
      ]
    },
    {
      "cell_type": "markdown",
      "metadata": {
        "id": "c4qGiItw53il",
        "colab_type": "text"
      },
      "source": [
        "Print the last item in one_array."
      ]
    },
    {
      "cell_type": "code",
      "metadata": {
        "id": "v-gHjdgc53im",
        "colab_type": "code",
        "colab": {
          "base_uri": "https://localhost:8080/",
          "height": 51
        },
        "outputId": "35d7e4be-92d4-43f2-eb02-fbc1489212ed"
      },
      "source": [
        "# TODO\n",
        "import numpy\n",
        "# initializing list  \n",
        "one_array = [1, 5, 6, 7, 4] \n",
        "  \n",
        "# printing original list  \n",
        "print (\"The original list is : \" +  str(one_array)) \n",
        "  \n",
        "# using list indexing \n",
        "# to get first and last element of list \n",
        "res = [ one_array[0], one_array[-1] ]  \n",
        "  \n",
        "# printing result \n",
        "print (\"The first and last element of list are : \" +  str(res)) \n"
      ],
      "execution_count": 13,
      "outputs": [
        {
          "output_type": "stream",
          "text": [
            "The original list is : [1, 5, 6, 7, 4]\n",
            "The first and last element of list are : [1, 4]\n"
          ],
          "name": "stdout"
        }
      ]
    },
    {
      "cell_type": "markdown",
      "metadata": {
        "id": "_8VC9nYn53io",
        "colab_type": "text"
      },
      "source": [
        "Access all the values in the first row and second column of `three_array`."
      ]
    },
    {
      "cell_type": "code",
      "metadata": {
        "id": "0qq0OSoS53ip",
        "colab_type": "code",
        "colab": {
          "base_uri": "https://localhost:8080/",
          "height": 34
        },
        "outputId": "aec573b6-2c41-4b6a-e42a-a149c7a4f96d"
      },
      "source": [
        "# TODO\n",
        "import numpy as np\n",
        "\n",
        "three_array = np.random.randint(12,size=(8,8,8))\n",
        "#three_array\n",
        "print(\"first row and second column: \", three_array[0,1,:])\n",
        "\n"
      ],
      "execution_count": 32,
      "outputs": [
        {
          "output_type": "stream",
          "text": [
            "first row and second column:  [11 11  2  9  7 10  7  3]\n"
          ],
          "name": "stdout"
        }
      ]
    },
    {
      "cell_type": "markdown",
      "metadata": {
        "id": "Hm-XJpA653is",
        "colab_type": "text"
      },
      "source": [
        "Print elements after index 5 of `x`."
      ]
    },
    {
      "cell_type": "code",
      "metadata": {
        "id": "LgRy13FJ53it",
        "colab_type": "code",
        "colab": {
          "base_uri": "https://localhost:8080/",
          "height": 51
        },
        "outputId": "a7409cf4-cea8-49a0-fe5e-86490b9217f8"
      },
      "source": [
        "# TODO \n",
        "#Print elements after index 5 of x.\n",
        "x = np.arange(20)\n",
        "y = print(x)\n",
        "x[5+1:]\n",
        "print(\"Elements after index 5 \", x[5+1:])\n"
      ],
      "execution_count": 33,
      "outputs": [
        {
          "output_type": "stream",
          "text": [
            "[ 0  1  2  3  4  5  6  7  8  9 10 11 12 13 14 15 16 17 18 19]\n",
            "Elements after index 5  [ 6  7  8  9 10 11 12 13 14 15 16 17 18 19]\n"
          ],
          "name": "stdout"
        }
      ]
    },
    {
      "cell_type": "markdown",
      "metadata": {
        "id": "J4bsgpe853iw",
        "colab_type": "text"
      },
      "source": [
        "Get every other element after index 5 of `x`."
      ]
    },
    {
      "cell_type": "code",
      "metadata": {
        "id": "vqYXv_fW53iw",
        "colab_type": "code",
        "colab": {
          "base_uri": "https://localhost:8080/",
          "height": 51
        },
        "outputId": "45c0635a-72ef-4b06-a8af-ebbd690e6f19"
      },
      "source": [
        "# TODO\n",
        "x = np.arange(20)\n",
        "y = print(x)\n",
        "x[5+1:]\n",
        "print(\"Elements after index 5 \", x[5+2:len(x):2])"
      ],
      "execution_count": 35,
      "outputs": [
        {
          "output_type": "stream",
          "text": [
            "[ 0  1  2  3  4  5  6  7  8  9 10 11 12 13 14 15 16 17 18 19]\n",
            "Elements after index 5  [ 7  9 11 13 15 17 19]\n"
          ],
          "name": "stdout"
        }
      ]
    },
    {
      "cell_type": "markdown",
      "metadata": {
        "id": "9Sx7Lt_v53iz",
        "colab_type": "text"
      },
      "source": [
        "Repalce all odd numbers in `x` with -1."
      ]
    },
    {
      "cell_type": "code",
      "metadata": {
        "id": "mivF1kR353iz",
        "colab_type": "code",
        "colab": {
          "base_uri": "https://localhost:8080/",
          "height": 51
        },
        "outputId": "5f5c5217-3c4a-4ae4-84cc-d870f13614cc"
      },
      "source": [
        "# TODO\n",
        "\n",
        "x = np.arange(20)\n",
        "y = print(x)\n",
        "x[x%2!=0]=-1\n",
        "\n",
        "print(\"Replaced odd numbers are \", x)\n"
      ],
      "execution_count": 41,
      "outputs": [
        {
          "output_type": "stream",
          "text": [
            "[ 0  1  2  3  4  5  6  7  8  9 10 11 12 13 14 15 16 17 18 19]\n",
            "Replaced odd numbers are  [ 0 -1  2 -1  4 -1  6 -1  8 -1 10 -1 12 -1 14 -1 16 -1 18 -1]\n"
          ],
          "name": "stdout"
        }
      ]
    },
    {
      "cell_type": "markdown",
      "metadata": {
        "id": "L5iETc_N53i1",
        "colab_type": "text"
      },
      "source": [
        "### 3.Reshaping"
      ]
    },
    {
      "cell_type": "markdown",
      "metadata": {
        "id": "TgMtjf7d53i2",
        "colab_type": "text"
      },
      "source": [
        "Print the numbers from 1 to 9 as a row."
      ]
    },
    {
      "cell_type": "code",
      "metadata": {
        "id": "am_bPxxO78hY",
        "colab_type": "code",
        "colab": {
          "base_uri": "https://localhost:8080/",
          "height": 102
        },
        "outputId": "17ec9e0f-180e-42b9-9ca7-d106fb625ea9"
      },
      "source": [
        "#3.Reshaping\n",
        "#Print the numbers from 1 to 9 as a row.\n",
        "import numpy as np\n",
        "a = np.array([1,2,3,4,5,6,7,8,9,10,11,12])\n",
        "b = a.reshape((2,2,3))\n",
        "b\n"
      ],
      "execution_count": 43,
      "outputs": [
        {
          "output_type": "execute_result",
          "data": {
            "text/plain": [
              "array([[[ 1,  2,  3],\n",
              "        [ 4,  5,  6]],\n",
              "\n",
              "       [[ 7,  8,  9],\n",
              "        [10, 11, 12]]])"
            ]
          },
          "metadata": {
            "tags": []
          },
          "execution_count": 43
        }
      ]
    },
    {
      "cell_type": "markdown",
      "metadata": {
        "id": "Z9INgHmw53i4",
        "colab_type": "text"
      },
      "source": [
        "Print the numbers from 1 to 9 as a column.\n"
      ]
    },
    {
      "cell_type": "code",
      "metadata": {
        "id": "sy4qwcK_53i5",
        "colab_type": "code",
        "colab": {
          "base_uri": "https://localhost:8080/",
          "height": 221
        },
        "outputId": "203675e0-d965-4ad8-a4b4-82eed0a0af59"
      },
      "source": [
        "# TODO\n",
        "# TODO\n",
        "import numpy as np\n",
        "z = np.array([[1, 2, 3, 4],\n",
        "         [5, 6, 7, 8],\n",
        "         [9, 10, 11, 12]])\n",
        "\n",
        "#z.reshape(-1)\n",
        "z.reshape(-1,1)\n",
        "#array([[ 1],\n",
        "\n"
      ],
      "execution_count": 44,
      "outputs": [
        {
          "output_type": "execute_result",
          "data": {
            "text/plain": [
              "array([[ 1],\n",
              "       [ 2],\n",
              "       [ 3],\n",
              "       [ 4],\n",
              "       [ 5],\n",
              "       [ 6],\n",
              "       [ 7],\n",
              "       [ 8],\n",
              "       [ 9],\n",
              "       [10],\n",
              "       [11],\n",
              "       [12]])"
            ]
          },
          "metadata": {
            "tags": []
          },
          "execution_count": 44
        }
      ]
    },
    {
      "cell_type": "markdown",
      "metadata": {
        "id": "wJ0lLvoc53i7",
        "colab_type": "text"
      },
      "source": [
        "Print the numbers from 1 to 9 as a 3x3 grid."
      ]
    },
    {
      "cell_type": "markdown",
      "metadata": {
        "id": "28JgRZDQ53i-",
        "colab_type": "text"
      },
      "source": [
        "### 4. Concatenating and Splitting"
      ]
    },
    {
      "cell_type": "markdown",
      "metadata": {
        "id": "YDp7BAJm53i-",
        "colab_type": "text"
      },
      "source": [
        "Concatenate array `x` and array `y` along axis= 0, and assign the result to variable `z`."
      ]
    },
    {
      "cell_type": "code",
      "metadata": {
        "id": "mcHbK_cJ53i_",
        "colab_type": "code",
        "colab": {
          "base_uri": "https://localhost:8080/",
          "height": 34
        },
        "outputId": "d8afcfba-368d-4045-cd11-19568b47349d"
      },
      "source": [
        "# TODO\n",
        "x = np.linspace(2, 10, 3)\n",
        "y = np.arange(3)\n",
        "z = np.concatenate((x, y), axis=0)\n",
        "\n",
        "print(z)"
      ],
      "execution_count": 46,
      "outputs": [
        {
          "output_type": "stream",
          "text": [
            "[ 2.  6. 10.  0.  1.  2.]\n"
          ],
          "name": "stdout"
        }
      ]
    },
    {
      "cell_type": "markdown",
      "metadata": {
        "id": "oEdhtj5h53jC",
        "colab_type": "text"
      },
      "source": [
        "Stack `x`  and `y` vertically and assign result to variable `v`."
      ]
    },
    {
      "cell_type": "code",
      "metadata": {
        "id": "caoRVJTQ53jC",
        "colab_type": "code",
        "colab": {
          "base_uri": "https://localhost:8080/",
          "height": 51
        },
        "outputId": "8b3cae6c-271e-4bf5-c6c2-c82dcc4fb9ab"
      },
      "source": [
        "# TODO\n",
        "#Stack x and y vertically and assign result to variable v.\n",
        "# TODO\n",
        "x = np.linspace(2, 10, 3)\n",
        "y = np.arange(3)\n",
        "v = np.stack((x, y), axis=0)\n",
        "print(v)\n"
      ],
      "execution_count": 48,
      "outputs": [
        {
          "output_type": "stream",
          "text": [
            "[[ 2.  6. 10.]\n",
            " [ 0.  1.  2.]]\n"
          ],
          "name": "stdout"
        }
      ]
    },
    {
      "cell_type": "markdown",
      "metadata": {
        "id": "cai58Ibq53jG",
        "colab_type": "text"
      },
      "source": [
        "Split `v` to two arrays with equal number of elements."
      ]
    },
    {
      "cell_type": "code",
      "metadata": {
        "id": "QH4wihRk53jH",
        "colab_type": "code",
        "colab": {
          "base_uri": "https://localhost:8080/",
          "height": 51
        },
        "outputId": "0bf51871-2184-493f-eae9-c2d4599598cd"
      },
      "source": [
        "#TODO\n",
        "split_array_1, split_array_2 = np.split(v, 2)\n",
        "\n",
        "print(split_array_1)\n",
        "print(split_array_2)\n"
      ],
      "execution_count": 49,
      "outputs": [
        {
          "output_type": "stream",
          "text": [
            "[[ 2.  6. 10.]]\n",
            "[[0. 1. 2.]]\n"
          ],
          "name": "stdout"
        }
      ]
    },
    {
      "cell_type": "markdown",
      "metadata": {
        "id": "Prw8RDGd53jK",
        "colab_type": "text"
      },
      "source": [
        "## 5. Vectorize operation  \n",
        "There are some cases in which you can replace loops with Numpy that use vector operations to make your computations a LOT faster."
      ]
    },
    {
      "cell_type": "markdown",
      "metadata": {
        "id": "oEQuZYTf53jL",
        "colab_type": "text"
      },
      "source": [
        "Use a loop to find the intersection between `x` and `y`."
      ]
    },
    {
      "cell_type": "code",
      "metadata": {
        "id": "6TvOkxkK53jM",
        "colab_type": "code",
        "colab": {
          "base_uri": "https://localhost:8080/",
          "height": 51
        },
        "outputId": "f4e8fee7-b9d0-4e8d-bbdf-134fc8b44cf2"
      },
      "source": [
        "# TODO\n",
        "import time\n",
        "start = time.time()\n",
        "x = np.arange(10000)\n",
        "y = np.arange(800, 20000)\n",
        "\n",
        "# your codes go here\n",
        "x_y_intersection = []\n",
        "# loop through x \n",
        "for ix in x:\n",
        "    # check if ix is in y\n",
        "    if ix in y:\n",
        "        # add to the intersection list\n",
        "        x_y_intersection.append(ix)\n",
        "\n",
        "print(\"Intersection between x and y includes {} elements.\".format(len(x_y_intersection)))\n",
        "print('Duration: {} seconds'.format(time.time() - start))\n"
      ],
      "execution_count": 51,
      "outputs": [
        {
          "output_type": "stream",
          "text": [
            "Intersection between x and y includes 9200 elements.\n",
            "Duration: 0.12498712539672852 seconds\n"
          ],
          "name": "stdout"
        }
      ]
    },
    {
      "cell_type": "markdown",
      "metadata": {
        "id": "R6pX-j_o53jP",
        "colab_type": "text"
      },
      "source": [
        "Use Numpy's `intersect1d` method to get the intersection of the `x` and `y` arrays."
      ]
    },
    {
      "cell_type": "code",
      "metadata": {
        "id": "uPVrd1dP53jP",
        "colab_type": "code",
        "colab": {
          "base_uri": "https://localhost:8080/",
          "height": 51
        },
        "outputId": "4ad4e94b-74e0-438f-eaa8-9407d9c991fe"
      },
      "source": [
        "#TODO\n",
        "start = time.time()\n",
        "\n",
        "# your codes go here\n",
        "\n",
        "x_y_intersection2 = np.intersect1d(x, y)\n",
        "print(\"Intersection between x and y includes {} elements.\".format(len(x_y_intersection2)))\n",
        "print('Duration: {} seconds'.format(time.time() - start))"
      ],
      "execution_count": 52,
      "outputs": [
        {
          "output_type": "stream",
          "text": [
            "Intersection between x and y includes 9200 elements.\n",
            "Duration: 0.007817506790161133 seconds\n"
          ],
          "name": "stdout"
        }
      ]
    },
    {
      "cell_type": "markdown",
      "metadata": {
        "id": "zxpR1nz-53jR",
        "colab_type": "text"
      },
      "source": [
        "## Descriptive Satistics\n",
        "\n",
        "The data is the results of a chemical analysis of wines grown in the same region in Italy by three different cultivators. There are thirteen different measurements taken for different constituents found in the three types of wine.\n",
        "\n",
        "[Wine Data Set Description](https://archive.ics.uci.edu/ml/datasets/Wine)"
      ]
    },
    {
      "cell_type": "code",
      "metadata": {
        "id": "G4ias_DL53jS",
        "colab_type": "code",
        "colab": {
          "base_uri": "https://localhost:8080/",
          "height": 68
        },
        "outputId": "1aebc9df-579d-457f-d9da-32cb4ed9f255"
      },
      "source": [
        "# load dataset\n",
        "from sklearn import datasets\n",
        "wine_data = datasets.load_wine()['data']\n",
        "wine_chemical = datasets.load_wine()['feature_names']\n",
        "wine_class = datasets.load_wine()['target']\n",
        "\n"
      ],
      "execution_count": 53,
      "outputs": [
        {
          "output_type": "stream",
          "text": [
            "Datatype wine_data : <class 'numpy.ndarray'>\n",
            "Datatype wine_chemical : <class 'list'>\n",
            "Datatype wine_class: <class 'numpy.ndarray'>\n"
          ],
          "name": "stdout"
        }
      ]
    },
    {
      "cell_type": "markdown",
      "metadata": {
        "id": "BQUQiSpL53jT",
        "colab_type": "text"
      },
      "source": [
        "1. What are the types of  variable `wine_data`, `wine_chemical` and `wine_class`?"
      ]
    },
    {
      "cell_type": "code",
      "metadata": {
        "id": "YaUdGtjE53jU",
        "colab_type": "code",
        "colab": {
          "base_uri": "https://localhost:8080/",
          "height": 68
        },
        "outputId": "22a84b8a-39e8-43a6-96a5-ac42477be8ee"
      },
      "source": [
        "# TODO\n",
        "print ('Datatype wine_data :', type(wine_data))\n",
        "print ('Datatype wine_chemical :', type(wine_chemical))\n",
        "print ('Datatype wine_class:',  type(wine_class))\n"
      ],
      "execution_count": 54,
      "outputs": [
        {
          "output_type": "stream",
          "text": [
            "Datatype wine_data : <class 'numpy.ndarray'>\n",
            "Datatype wine_chemical : <class 'list'>\n",
            "Datatype wine_class: <class 'numpy.ndarray'>\n"
          ],
          "name": "stdout"
        }
      ]
    },
    {
      "cell_type": "markdown",
      "metadata": {
        "id": "-MC5gWO353jV",
        "colab_type": "text"
      },
      "source": [
        "2. What are the data types in variable `wine_data`, `wine_chemical` and `wine_class`"
      ]
    },
    {
      "cell_type": "code",
      "metadata": {
        "id": "Z_2z0QRm53jV",
        "colab_type": "code",
        "colab": {
          "base_uri": "https://localhost:8080/",
          "height": 68
        },
        "outputId": "9af0c229-74ca-4fa4-f958-c015dff72cf7"
      },
      "source": [
        "# TODO\n",
        "print(\"wine_data data type:\", wine_data.dtype)\n",
        "print(\"wine_chemical data type:\", set([type(x) for x in wine_chemical]))\n",
        "print(\"wine_class data type:\",wine_class.dtype)"
      ],
      "execution_count": 57,
      "outputs": [
        {
          "output_type": "stream",
          "text": [
            "wine_data data type: float64\n",
            "wine_chemical data type: {<class 'str'>}\n",
            "wine_class data type: int64\n"
          ],
          "name": "stdout"
        }
      ]
    },
    {
      "cell_type": "markdown",
      "metadata": {
        "id": "87NdX9nU53jX",
        "colab_type": "text"
      },
      "source": [
        "3. What are the shape/length of `wine_data`, `wine_chemical` and `wine_class`?"
      ]
    },
    {
      "cell_type": "code",
      "metadata": {
        "id": "N21fUrBD53jX",
        "colab_type": "code",
        "colab": {
          "base_uri": "https://localhost:8080/",
          "height": 68
        },
        "outputId": "42c5ac78-9747-4ac2-a229-b7d85526174c"
      },
      "source": [
        "# TODO\n",
        "\n",
        "print(\"wine_data shape:\", wine_data.shape)\n",
        "print(\"wine_chemical shape:\", len(wine_chemical))\n",
        "print(\"wine_class shape:\", wine_class.shape)\n",
        "\n"
      ],
      "execution_count": 61,
      "outputs": [
        {
          "output_type": "stream",
          "text": [
            "wine_data shape: (178, 13)\n",
            "wine_chemical shape: 13\n",
            "wine_class shape: (178,)\n"
          ],
          "name": "stdout"
        }
      ]
    },
    {
      "cell_type": "markdown",
      "metadata": {
        "id": "tNIWJPDk53jZ",
        "colab_type": "text"
      },
      "source": [
        "4. How many unique wine classes can you find in `wine_class`?"
      ]
    },
    {
      "cell_type": "code",
      "metadata": {
        "id": "_USjC3F753jZ",
        "colab_type": "code",
        "colab": {
          "base_uri": "https://localhost:8080/",
          "height": 51
        },
        "outputId": "3c7925c4-bccf-4cb8-ff00-280901b3669e"
      },
      "source": [
        "# TODO\n",
        "def unique(list1): \n",
        "    x = np.array(list1) \n",
        "    print(np.unique(x))        \n",
        "# driver code \n",
        "list1 = wine_class\n",
        "print(\"the unique values from 1st list is\") \n",
        "unique(list1) \n",
        "  "
      ],
      "execution_count": 62,
      "outputs": [
        {
          "output_type": "stream",
          "text": [
            "the unique values from 1st list is\n",
            "[0 1 2]\n"
          ],
          "name": "stdout"
        }
      ]
    },
    {
      "cell_type": "markdown",
      "metadata": {
        "id": "LGuvuXLq53jf",
        "colab_type": "text"
      },
      "source": [
        "5. How many samples in `wine_data` does each class of wine have? Which wine has the most samples, and which wine has the least samples?"
      ]
    },
    {
      "cell_type": "code",
      "metadata": {
        "id": "N3e8AGoI53jg",
        "colab_type": "code",
        "colab": {
          "base_uri": "https://localhost:8080/",
          "height": 68
        },
        "outputId": "47b92071-7cff-4090-d599-e4177e8be0e5"
      },
      "source": [
        "# TODO\n",
        "# count samples for each wine class \n",
        "wine_counts={'wine class '+str(wine): sum(wine_class==wine) for wine in set(wine_class)}\n",
        "\n",
        "# extract wine class names and sample counts\n",
        "wine_class_counts = list(wine_counts.values())\n",
        "wine_class_names = list(wine_counts.keys())\n",
        "\n",
        "# identify wine class with the most and least samples\n",
        "wine_class_name_max = wine_class_names[wine_class_counts.index(max(wine_class_counts))]\n",
        "wine_class_name_min = wine_class_names[wine_class_counts.index(min(wine_class_counts))]\n",
        "\n",
        "print(wine_counts)\n",
        "print(\"{} has the most samples.\".format(wine_class_name_max))\n",
        "print(\"{} has the least samples.\".format(wine_class_name_min))"
      ],
      "execution_count": 66,
      "outputs": [
        {
          "output_type": "stream",
          "text": [
            "{'wine class 0': 59, 'wine class 1': 71, 'wine class 2': 48}\n",
            "wine class 1 has the most samples.\n",
            "wine class 2 has the least samples.\n"
          ],
          "name": "stdout"
        }
      ]
    },
    {
      "cell_type": "markdown",
      "metadata": {
        "id": "1CXNya2Q53jh",
        "colab_type": "text"
      },
      "source": [
        "6. What is the mean, median `alcohol` level and the standard deviation for each type of wine? How many wine class 0 samples have alcohol level that is two standard deviation below the mean of all samples?"
      ]
    },
    {
      "cell_type": "code",
      "metadata": {
        "id": "__P3bggu53jh",
        "colab_type": "code",
        "colab": {
          "base_uri": "https://localhost:8080/",
          "height": 68
        },
        "outputId": "8b10f71f-f65d-4624-e0f4-b309eb0a9347"
      },
      "source": [
        "# TODO\n",
        "print(np.mean(wine_data),np.mean(wine_data[:,0]))\n",
        "np.mean(wine_data[:,0])\n",
        "print(np.median(wine_data),np.median(wine_data[:,0]))\n",
        "print(np.std(wine_data),np.std(wine_data[:,0]))"
      ],
      "execution_count": 68,
      "outputs": [
        {
          "output_type": "stream",
          "text": [
            "69.13366292091617 13.00061797752809\n",
            "2.685 13.05\n",
            "215.74620420485243 0.8095429145285168\n"
          ],
          "name": "stdout"
        }
      ]
    },
    {
      "cell_type": "markdown",
      "metadata": {
        "id": "8Olj9C7s53jj",
        "colab_type": "text"
      },
      "source": [
        "7. Can you find the chemical that has the highest correlation with `alcohol` for wine class 1?  \n",
        "Hint: if you use [numpy.corrcoef](https://docs.scipy.org/doc/numpy/reference/generated/numpy.corrcoef.html) for calculation, pay attention to the shape of the parameters passed in."
      ]
    },
    {
      "cell_type": "code",
      "metadata": {
        "id": "8eTcIzGI53jj",
        "colab_type": "code",
        "colab": {
          "base_uri": "https://localhost:8080/",
          "height": 136
        },
        "outputId": "c161e39f-1915-4c8a-bd9a-27778cfae9ff"
      },
      "source": [
        "# TODO\n",
        "print(np.corrcoef(wine_data),np.corrcoef(wine_data[:,0]))\n"
      ],
      "execution_count": 69,
      "outputs": [
        {
          "output_type": "stream",
          "text": [
            "[[1.         0.99971544 0.9994164  ... 0.99965667 0.99968167 0.99840099]\n",
            " [0.99971544 1.         0.99992977 ... 0.99878998 0.99882897 0.99688785]\n",
            " [0.9994164  0.99992977 1.         ... 0.9982921  0.99833736 0.99621008]\n",
            " ...\n",
            " [0.99965667 0.99878998 0.9982921  ... 1.         0.9999972  0.99950589]\n",
            " [0.99968167 0.99882897 0.99833736 ... 0.9999972  1.         0.99948599]\n",
            " [0.99840099 0.99688785 0.99621008 ... 0.99950589 0.99948599 1.        ]] 1.0\n"
          ],
          "name": "stdout"
        }
      ]
    },
    {
      "cell_type": "markdown",
      "metadata": {
        "id": "3YDCuAwT53jm",
        "colab_type": "text"
      },
      "source": [
        "## Submission\n",
        "\n",
        "Download completed **Week4_PythonProgramming_Homework.ipynb** from Google Colab and commit to your personal Github repo you shared with the faculty."
      ]
    }
  ]
}