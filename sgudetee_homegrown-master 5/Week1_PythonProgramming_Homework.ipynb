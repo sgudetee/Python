{
 "cells": [
  {
   "cell_type": "markdown",
   "metadata": {},
   "source": [
    "## Week1 Python Programming"
   ]
  },
  {
   "cell_type": "markdown",
   "metadata": {},
   "source": [
    "In week1, we've covered:   \n",
    "* **Python**  \n",
    "Python is a high-level programming language which is easy to code and understand. It also has wide applications in multiple industries and domians. Last but not least, Python is open-source so it is free to use!\n",
    "        \n",
    "    \n",
    "* **Jupyter Notebook**  \n",
    "Jupyter Notebook is an open-source web application which allows you to code and share documents with live code. Python is one of the coding languages it supports.\n",
    "    \n",
    "\n",
    "Instead of installing Jupyter Notebook on your local computer, we will use [Google Colab](https://colab.research.google.com/) for all 100 level coding exercises and homework. Google Colab is a cloud based data science work space similar to the Jupyter Notebook. You don't need to worry about installing python and related packages for exercies and homework."
   ]
  },
  {
   "cell_type": "markdown",
   "metadata": {},
   "source": [
    "Please watch this [Google Colab Introduction](https://www.youtube.com/watch?time_continue=30&v=inN8seMm7UI) on youtube.  \n",
    "\n",
    "Upload **Week1_PythonProgramming_Homework.ipynb** notebook to your Google Drive and open it with Google Colab or you can directly go to [Google Colab](https://colab.research.google.com/) and create a notebook. Copy and paste `print('Hello 2019 Accelerator!')` in the cell and run the code."
   ]
  },
  {
   "cell_type": "code",
   "execution_count": null,
   "metadata": {},
   "outputs": [],
   "source": [
    "# TODO"
   ]
  },
  {
   "cell_type": "markdown",
   "metadata": {},
   "source": [
    "## Submission\n",
    "\n",
    "For participants other than from Higher Education, please fill the [form](https://forms.gle/CtmLb9ZCExcRvktq6).\n",
    "\n",
    "For Higher Education participants, please email your Google Colab notebook URL to (all three):\n",
    "* Lucas Allen lallen@redventures.com\n",
    "* Ruiye Ni ruiye.ni@bankrate.com\n",
    "* Annie Brinza abrinza@redventures.com"
   ]
  }
 ],
 "metadata": {
  "kernelspec": {
   "display_name": "Python 3",
   "language": "python",
   "name": "python3"
  },
  "language_info": {
   "codemirror_mode": {
    "name": "ipython",
    "version": 3
   },
   "file_extension": ".py",
   "mimetype": "text/x-python",
   "name": "python",
   "nbconvert_exporter": "python",
   "pygments_lexer": "ipython3",
   "version": "3.7.3"
  }
 },
 "nbformat": 4,
 "nbformat_minor": 4
}
