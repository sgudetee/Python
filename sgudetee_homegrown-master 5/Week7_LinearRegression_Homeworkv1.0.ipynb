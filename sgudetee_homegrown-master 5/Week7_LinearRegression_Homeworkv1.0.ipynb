{
  "nbformat": 4,
  "nbformat_minor": 0,
  "metadata": {
    "anaconda-cloud": {},
    "colab": {
      "name": "Week7_LinearRegression_Homework_Solution.ipynb",
      "provenance": [],
      "collapsed_sections": []
    },
    "kernelspec": {
      "display_name": "Python 3",
      "language": "python",
      "name": "python3"
    },
    "language_info": {
      "codemirror_mode": {
        "name": "ipython",
        "version": 3
      },
      "file_extension": ".py",
      "mimetype": "text/x-python",
      "name": "python",
      "nbconvert_exporter": "python",
      "pygments_lexer": "ipython3",
      "version": "3.7.3"
    }
  },
  "cells": [
    {
      "cell_type": "markdown",
      "metadata": {
        "colab_type": "text",
        "id": "o-CrO0eeDHXi"
      },
      "source": [
        "## Week7 LinearRegression\n",
        "\n",
        "In week 7, we've covered:\n",
        "* Simple linear regression\n",
        "* Multiple linear regression\n",
        "* Model evaluation\n",
        "* Build linear regression model with Sklearn  \n",
        "  \n",
        "  \n",
        "In this notebook,  we will work on the Boston housing dataset and  build a linear regression model to predict value of houses. \n",
        "\n",
        "The dataset for this project originates from the [UCI Machine Learning Repository](https://archive.ics.uci.edu/ml/machine-learning-databases/housing/). The Boston housing data was collected in 1978 and each of the 506 entries represent aggregated data about 14 features for homes from various suburbs in Boston, Massachusetts. For the purposes of this project, the following preprocessing steps have been made to the dataset:\n",
        "- 16 data points have an `'MEDV'` value of 50.0. These data points likely contain **missing or censored values** and have been removed.\n",
        "- 1 data point has an `'RM'` value of 8.78. This data point can be considered an **outlier** and has been removed.\n",
        "- The features `'RM'`, `'LSTAT'`, `'PTRATIO'`, and `'MEDV'` are essential. The remaining **non-relevant features** have been excluded.\n",
        "- The feature `'MEDV'` has been **multiplicatively scaled** to account for 35 years of market inflation.  \n",
        "  \n",
        "  \n",
        "A model trained on this data that is seen as a *good fit* could then be used to make certain predictions about a home — in particular, its monetary value. This model would prove to be invaluable for someone like a real estate agent who could make use of such information on a daily basis.  \n",
        "  \n",
        "  \n",
        "Instructions will be provided for each section and the specifics of the implementation are marked in the code block with a **TODO** statement and \"____\"\n",
        ".\n",
        "\n",
        ">**Note:** Code and Markdown cells can be executed using the **Shift + Enter** keyboard shortcut. In addition, Markdown cells can be edited by typically double-clicking the cell to enter edit mode."
      ]
    },
    {
      "cell_type": "markdown",
      "metadata": {
        "id": "yjfBOjf-0tKQ",
        "colab_type": "text"
      },
      "source": [
        "Upload **Week7_LinearRegression_Homework.ipynb** and **housing.csv** to Google Drive."
      ]
    },
    {
      "cell_type": "code",
      "metadata": {
        "id": "_wDBb8stljb1",
        "colab_type": "code",
        "colab": {}
      },
      "source": [
        "# Need to work on week7. Couldn't mount it to the drive. overall went the solution below and feel good about it - Seeth"
      ],
      "execution_count": 0,
      "outputs": []
    },
    {
      "cell_type": "code",
      "metadata": {
        "colab_type": "code",
        "id": "EOPLgkVrNhet",
        "outputId": "558c4138-b232-4132-bd53-a4aad1ff3d45",
        "colab": {
          "base_uri": "https://localhost:8080/",
          "height": 34
        }
      },
      "source": [
        "# Mount your Google Drive on your runtime using an authorization code\n",
        "from google.colab import drive\n",
        "drive.mount('/content/drive')"
      ],
      "execution_count": 0,
      "outputs": [
        {
          "output_type": "stream",
          "text": [
            "Drive already mounted at /content/drive; to attempt to forcibly remount, call drive.mount(\"/content/drive\", force_remount=True).\n"
          ],
          "name": "stdout"
        }
      ]
    },
    {
      "cell_type": "markdown",
      "metadata": {
        "colab_type": "text",
        "id": "Wm1lijMASx2f"
      },
      "source": [
        "**TODO**: Replace **`YourFolderName`**  below with the folder name on your google drive where you put the `housing.csv` file. Run the cell, check if `housing.csv` is listed."
      ]
    },
    {
      "cell_type": "code",
      "metadata": {
        "colab_type": "code",
        "id": "g-Wrtw44R766",
        "outputId": "14d0f4f1-9ca6-4656-82a5-e026161d6bf7",
        "colab": {
          "base_uri": "https://localhost:8080/",
          "height": 34
        }
      },
      "source": [
        "!ls /content/drive/My\\ Drive/Data"
      ],
      "execution_count": 0,
      "outputs": [
        {
          "output_type": "stream",
          "text": [
            "housing.csv\n"
          ],
          "name": "stdout"
        }
      ]
    },
    {
      "cell_type": "markdown",
      "metadata": {
        "colab_type": "text",
        "id": "rcJQfhe7Nt31"
      },
      "source": [
        "----\n",
        "## 1. Import Libraries\n",
        "Import pandas, numpy, matplotlib and seaborn. Then set %matplotlib inline."
      ]
    },
    {
      "cell_type": "code",
      "metadata": {
        "colab_type": "code",
        "id": "699AhjeHOAMG",
        "colab": {}
      },
      "source": [
        "# TODO  \n",
        "import pandas as pd\n",
        "import numpy as np\n",
        "import matplotlib.pyplot as plt\n",
        "import seaborn as sns\n",
        "\n",
        "%matplotlib inline"
      ],
      "execution_count": 0,
      "outputs": []
    },
    {
      "cell_type": "markdown",
      "metadata": {
        "colab_type": "text",
        "id": "4Q3Ae4OFOB3W"
      },
      "source": [
        "---\n",
        "## 2. Load Data\n",
        "Read in the housing.csv file as a DataFrame called `data`."
      ]
    },
    {
      "cell_type": "code",
      "metadata": {
        "colab_type": "code",
        "id": "d6qzORRmOMRP",
        "outputId": "9fc292b5-cc6a-484c-b596-ad3e1dc1d0ce",
        "colab": {
          "base_uri": "https://localhost:8080/",
          "height": 34
        }
      },
      "source": [
        "# TODO Replace YourFolderName with the folder name on your google drive\n",
        "\n",
        "data = pd.read_csv('/content/drive/My Drive/Data/housing.csv')\n",
        "\n",
        "\n",
        "# Success\n",
        "print(\"Boston housing dataset has {} data points with {} columns.\".format(*data.shape))"
      ],
      "execution_count": 0,
      "outputs": [
        {
          "output_type": "stream",
          "text": [
            "Boston housing dataset has 489 data points with 4 columns.\n"
          ],
          "name": "stdout"
        }
      ]
    },
    {
      "cell_type": "markdown",
      "metadata": {
        "colab_type": "text",
        "id": "p80qXybvOZTm"
      },
      "source": [
        "---\n",
        "## 3. Expplore Data"
      ]
    },
    {
      "cell_type": "markdown",
      "metadata": {
        "colab_type": "text",
        "id": "lldfNrZxPohF"
      },
      "source": [
        "Check the head of `data`, and check out its `info()` and `describe()`methods."
      ]
    },
    {
      "cell_type": "code",
      "metadata": {
        "id": "_epD-EEqo7yb",
        "colab_type": "code",
        "colab": {
          "base_uri": "https://localhost:8080/",
          "height": 34
        },
        "outputId": "9bf25309-5371-4fb2-d42f-90f4e2964690"
      },
      "source": [
        "!pwd"
      ],
      "execution_count": 1,
      "outputs": [
        {
          "output_type": "stream",
          "text": [
            "/content\n"
          ],
          "name": "stdout"
        }
      ]
    },
    {
      "cell_type": "code",
      "metadata": {
        "colab_type": "code",
        "id": "I_I84oY1OZBl",
        "outputId": "c7babfe3-5123-4bde-8970-9da32c9201b9",
        "colab": {
          "base_uri": "https://localhost:8080/",
          "height": 195
        }
      },
      "source": [
        "# TODO  \n",
        "data.head()"
      ],
      "execution_count": 0,
      "outputs": [
        {
          "output_type": "execute_result",
          "data": {
            "text/html": [
              "<div>\n",
              "<style scoped>\n",
              "    .dataframe tbody tr th:only-of-type {\n",
              "        vertical-align: middle;\n",
              "    }\n",
              "\n",
              "    .dataframe tbody tr th {\n",
              "        vertical-align: top;\n",
              "    }\n",
              "\n",
              "    .dataframe thead th {\n",
              "        text-align: right;\n",
              "    }\n",
              "</style>\n",
              "<table border=\"1\" class=\"dataframe\">\n",
              "  <thead>\n",
              "    <tr style=\"text-align: right;\">\n",
              "      <th></th>\n",
              "      <th>RM</th>\n",
              "      <th>LSTAT</th>\n",
              "      <th>PTRATIO</th>\n",
              "      <th>MEDV</th>\n",
              "    </tr>\n",
              "  </thead>\n",
              "  <tbody>\n",
              "    <tr>\n",
              "      <th>0</th>\n",
              "      <td>6.575</td>\n",
              "      <td>4.98</td>\n",
              "      <td>15.3</td>\n",
              "      <td>504000.0</td>\n",
              "    </tr>\n",
              "    <tr>\n",
              "      <th>1</th>\n",
              "      <td>6.421</td>\n",
              "      <td>9.14</td>\n",
              "      <td>17.8</td>\n",
              "      <td>453600.0</td>\n",
              "    </tr>\n",
              "    <tr>\n",
              "      <th>2</th>\n",
              "      <td>7.185</td>\n",
              "      <td>4.03</td>\n",
              "      <td>17.8</td>\n",
              "      <td>728700.0</td>\n",
              "    </tr>\n",
              "    <tr>\n",
              "      <th>3</th>\n",
              "      <td>6.998</td>\n",
              "      <td>2.94</td>\n",
              "      <td>18.7</td>\n",
              "      <td>701400.0</td>\n",
              "    </tr>\n",
              "    <tr>\n",
              "      <th>4</th>\n",
              "      <td>7.147</td>\n",
              "      <td>5.33</td>\n",
              "      <td>18.7</td>\n",
              "      <td>760200.0</td>\n",
              "    </tr>\n",
              "  </tbody>\n",
              "</table>\n",
              "</div>"
            ],
            "text/plain": [
              "      RM  LSTAT  PTRATIO      MEDV\n",
              "0  6.575   4.98     15.3  504000.0\n",
              "1  6.421   9.14     17.8  453600.0\n",
              "2  7.185   4.03     17.8  728700.0\n",
              "3  6.998   2.94     18.7  701400.0\n",
              "4  7.147   5.33     18.7  760200.0"
            ]
          },
          "metadata": {
            "tags": []
          },
          "execution_count": 5
        }
      ]
    },
    {
      "cell_type": "code",
      "metadata": {
        "id": "Y8lSGtSY10iK",
        "colab_type": "code",
        "outputId": "57dcff0e-3be8-4087-875c-83716057e9e7",
        "colab": {
          "base_uri": "https://localhost:8080/",
          "height": 168
        }
      },
      "source": [
        "data.info()"
      ],
      "execution_count": 0,
      "outputs": [
        {
          "output_type": "stream",
          "text": [
            "<class 'pandas.core.frame.DataFrame'>\n",
            "RangeIndex: 489 entries, 0 to 488\n",
            "Data columns (total 4 columns):\n",
            "RM         489 non-null float64\n",
            "LSTAT      489 non-null float64\n",
            "PTRATIO    489 non-null float64\n",
            "MEDV       489 non-null float64\n",
            "dtypes: float64(4)\n",
            "memory usage: 15.4 KB\n"
          ],
          "name": "stdout"
        }
      ]
    },
    {
      "cell_type": "code",
      "metadata": {
        "id": "NEulpfNc12JT",
        "colab_type": "code",
        "outputId": "c5ba7b4f-4ad9-4f00-99e5-bbc7fb02899a",
        "colab": {
          "base_uri": "https://localhost:8080/",
          "height": 284
        }
      },
      "source": [
        "data.describe()"
      ],
      "execution_count": 0,
      "outputs": [
        {
          "output_type": "execute_result",
          "data": {
            "text/html": [
              "<div>\n",
              "<style scoped>\n",
              "    .dataframe tbody tr th:only-of-type {\n",
              "        vertical-align: middle;\n",
              "    }\n",
              "\n",
              "    .dataframe tbody tr th {\n",
              "        vertical-align: top;\n",
              "    }\n",
              "\n",
              "    .dataframe thead th {\n",
              "        text-align: right;\n",
              "    }\n",
              "</style>\n",
              "<table border=\"1\" class=\"dataframe\">\n",
              "  <thead>\n",
              "    <tr style=\"text-align: right;\">\n",
              "      <th></th>\n",
              "      <th>RM</th>\n",
              "      <th>LSTAT</th>\n",
              "      <th>PTRATIO</th>\n",
              "      <th>MEDV</th>\n",
              "    </tr>\n",
              "  </thead>\n",
              "  <tbody>\n",
              "    <tr>\n",
              "      <th>count</th>\n",
              "      <td>489.000000</td>\n",
              "      <td>489.000000</td>\n",
              "      <td>489.000000</td>\n",
              "      <td>4.890000e+02</td>\n",
              "    </tr>\n",
              "    <tr>\n",
              "      <th>mean</th>\n",
              "      <td>6.240288</td>\n",
              "      <td>12.939632</td>\n",
              "      <td>18.516564</td>\n",
              "      <td>4.543429e+05</td>\n",
              "    </tr>\n",
              "    <tr>\n",
              "      <th>std</th>\n",
              "      <td>0.643650</td>\n",
              "      <td>7.081990</td>\n",
              "      <td>2.111268</td>\n",
              "      <td>1.653403e+05</td>\n",
              "    </tr>\n",
              "    <tr>\n",
              "      <th>min</th>\n",
              "      <td>3.561000</td>\n",
              "      <td>1.980000</td>\n",
              "      <td>12.600000</td>\n",
              "      <td>1.050000e+05</td>\n",
              "    </tr>\n",
              "    <tr>\n",
              "      <th>25%</th>\n",
              "      <td>5.880000</td>\n",
              "      <td>7.370000</td>\n",
              "      <td>17.400000</td>\n",
              "      <td>3.507000e+05</td>\n",
              "    </tr>\n",
              "    <tr>\n",
              "      <th>50%</th>\n",
              "      <td>6.185000</td>\n",
              "      <td>11.690000</td>\n",
              "      <td>19.100000</td>\n",
              "      <td>4.389000e+05</td>\n",
              "    </tr>\n",
              "    <tr>\n",
              "      <th>75%</th>\n",
              "      <td>6.575000</td>\n",
              "      <td>17.120000</td>\n",
              "      <td>20.200000</td>\n",
              "      <td>5.187000e+05</td>\n",
              "    </tr>\n",
              "    <tr>\n",
              "      <th>max</th>\n",
              "      <td>8.398000</td>\n",
              "      <td>37.970000</td>\n",
              "      <td>22.000000</td>\n",
              "      <td>1.024800e+06</td>\n",
              "    </tr>\n",
              "  </tbody>\n",
              "</table>\n",
              "</div>"
            ],
            "text/plain": [
              "               RM       LSTAT     PTRATIO          MEDV\n",
              "count  489.000000  489.000000  489.000000  4.890000e+02\n",
              "mean     6.240288   12.939632   18.516564  4.543429e+05\n",
              "std      0.643650    7.081990    2.111268  1.653403e+05\n",
              "min      3.561000    1.980000   12.600000  1.050000e+05\n",
              "25%      5.880000    7.370000   17.400000  3.507000e+05\n",
              "50%      6.185000   11.690000   19.100000  4.389000e+05\n",
              "75%      6.575000   17.120000   20.200000  5.187000e+05\n",
              "max      8.398000   37.970000   22.000000  1.024800e+06"
            ]
          },
          "metadata": {
            "tags": []
          },
          "execution_count": 7
        }
      ]
    },
    {
      "cell_type": "markdown",
      "metadata": {
        "colab_type": "text",
        "id": "FnhKfVdbDHXm"
      },
      "source": [
        "Since the main goal of this project is to construct a working model which has the capability of predicting the value of houses, we will need to separate the dataset into **features** and the **target variable**.  \n",
        "  \n",
        "\n",
        "The **features**, `'RM'`, `'LSTAT'`, and `'PTRATIO'`, give us quantitative information about each data point.   \n",
        "- `'RM'` is the average number of rooms among homes in the neighborhood.\n",
        "- `'LSTAT'` is the percentage of homeowners in the neighborhood considered \"lower class\" (working poor).\n",
        "- `'PTRATIO'` is the ratio of students to teachers in primary and secondary schools in the neighborhood.   \n",
        "  \n",
        "The **target variable**, `'MEDV'`, will be the variable we seek to predict.  \n",
        "\n",
        "These are stored in **features** and **prices**, respectively."
      ]
    },
    {
      "cell_type": "code",
      "metadata": {
        "colab_type": "code",
        "id": "QblQKHpGZE3_",
        "colab": {}
      },
      "source": [
        "# TODO  \n",
        "\n",
        "prices = data[\"MEDV\"]\n",
        "features = data.drop(\"MEDV\", axis=1)"
      ],
      "execution_count": 0,
      "outputs": []
    },
    {
      "cell_type": "code",
      "metadata": {
        "id": "QjMCS3sM2xC5",
        "colab_type": "code",
        "outputId": "38dde86a-ec2d-45b2-a3a3-f9631ff5e7f1",
        "colab": {
          "base_uri": "https://localhost:8080/",
          "height": 195
        }
      },
      "source": [
        "features.head()"
      ],
      "execution_count": 0,
      "outputs": [
        {
          "output_type": "execute_result",
          "data": {
            "text/html": [
              "<div>\n",
              "<style scoped>\n",
              "    .dataframe tbody tr th:only-of-type {\n",
              "        vertical-align: middle;\n",
              "    }\n",
              "\n",
              "    .dataframe tbody tr th {\n",
              "        vertical-align: top;\n",
              "    }\n",
              "\n",
              "    .dataframe thead th {\n",
              "        text-align: right;\n",
              "    }\n",
              "</style>\n",
              "<table border=\"1\" class=\"dataframe\">\n",
              "  <thead>\n",
              "    <tr style=\"text-align: right;\">\n",
              "      <th></th>\n",
              "      <th>RM</th>\n",
              "      <th>LSTAT</th>\n",
              "      <th>PTRATIO</th>\n",
              "    </tr>\n",
              "  </thead>\n",
              "  <tbody>\n",
              "    <tr>\n",
              "      <th>0</th>\n",
              "      <td>6.575</td>\n",
              "      <td>4.98</td>\n",
              "      <td>15.3</td>\n",
              "    </tr>\n",
              "    <tr>\n",
              "      <th>1</th>\n",
              "      <td>6.421</td>\n",
              "      <td>9.14</td>\n",
              "      <td>17.8</td>\n",
              "    </tr>\n",
              "    <tr>\n",
              "      <th>2</th>\n",
              "      <td>7.185</td>\n",
              "      <td>4.03</td>\n",
              "      <td>17.8</td>\n",
              "    </tr>\n",
              "    <tr>\n",
              "      <th>3</th>\n",
              "      <td>6.998</td>\n",
              "      <td>2.94</td>\n",
              "      <td>18.7</td>\n",
              "    </tr>\n",
              "    <tr>\n",
              "      <th>4</th>\n",
              "      <td>7.147</td>\n",
              "      <td>5.33</td>\n",
              "      <td>18.7</td>\n",
              "    </tr>\n",
              "  </tbody>\n",
              "</table>\n",
              "</div>"
            ],
            "text/plain": [
              "      RM  LSTAT  PTRATIO\n",
              "0  6.575   4.98     15.3\n",
              "1  6.421   9.14     17.8\n",
              "2  7.185   4.03     17.8\n",
              "3  6.998   2.94     18.7\n",
              "4  7.147   5.33     18.7"
            ]
          },
          "metadata": {
            "tags": []
          },
          "execution_count": 9
        }
      ]
    },
    {
      "cell_type": "code",
      "metadata": {
        "id": "6A56lrcb2zpd",
        "colab_type": "code",
        "outputId": "b1a7dd08-43a8-4674-bf30-17da0f9ecf07",
        "colab": {
          "base_uri": "https://localhost:8080/",
          "height": 118
        }
      },
      "source": [
        "print(prices.head())"
      ],
      "execution_count": 0,
      "outputs": [
        {
          "output_type": "stream",
          "text": [
            "0    504000.0\n",
            "1    453600.0\n",
            "2    728700.0\n",
            "3    701400.0\n",
            "4    760200.0\n",
            "Name: MEDV, dtype: float64\n"
          ],
          "name": "stdout"
        }
      ]
    },
    {
      "cell_type": "markdown",
      "metadata": {
        "colab_type": "text",
        "id": "ycjtGbanDHXn"
      },
      "source": [
        "Calculate Statistics\n",
        "- Calculate the minimum, maximum, mean, median, and standard deviation of `'MEDV'`, which is stored in **prices**.\n",
        "- Store each calculation in their respective variable.\n",
        "- Use `numpy` to perform the necessary calcualtions."
      ]
    },
    {
      "cell_type": "code",
      "metadata": {
        "colab_type": "code",
        "id": "ObG8IO4uDHXn",
        "outputId": "3a508eaa-fbf4-4b4f-835a-9a983d2fe25f",
        "colab": {
          "base_uri": "https://localhost:8080/",
          "height": 134
        }
      },
      "source": [
        "# TODO: Minimum price of the data\n",
        "minimum_price = round(np.min(prices), 2)\n",
        "\n",
        "# TODO: Maximum price of the data\n",
        "maximum_price = round(np.max(prices), 2)\n",
        "# TODO: Mean price of the data\n",
        "mean_price = round(np.mean(prices), 2)\n",
        "\n",
        "# TODO: Median price of the data\n",
        "median_price = round(np.median(prices), 2)\n",
        "\n",
        "# TODO: Standard deviation of prices of the data\n",
        "std_price = round(np.std(prices), 2)\n",
        "\n",
        "# Show the calculated statistics\n",
        "print(\"Statistics for Boston housing dataset:\\n\")\n",
        "print(\"Minimum price: ${}\".format(minimum_price)) \n",
        "print(\"Maximum price: ${}\".format(maximum_price))\n",
        "print(\"Mean price: ${}\".format(mean_price))\n",
        "print(\"Median price ${}\".format(median_price))\n",
        "print(\"Standard deviation of prices: ${}\".format(std_price))"
      ],
      "execution_count": 0,
      "outputs": [
        {
          "output_type": "stream",
          "text": [
            "Statistics for Boston housing dataset:\n",
            "\n",
            "Minimum price: $105000.0\n",
            "Maximum price: $1024800.0\n",
            "Mean price: $454342.94\n",
            "Median price $438900.0\n",
            "Standard deviation of prices: $165171.13\n"
          ],
          "name": "stdout"
        }
      ]
    },
    {
      "cell_type": "markdown",
      "metadata": {
        "colab_type": "text",
        "id": "xbabB6a2DHXp"
      },
      "source": [
        "Observe features\n",
        "\n",
        "For each of the three features **RM**, **LSTAT**, **PTRATIO**:\n",
        "  * Do you think that an increase in the value of that feature would lead to an **increase** in the value of `'MEDV'` or a **decrease** in the value of `'MEDV'`? \n",
        "  * Show the data using appropriate plot and justify your answer for each."
      ]
    },
    {
      "cell_type": "code",
      "metadata": {
        "colab_type": "code",
        "id": "sQ8PrHK_DHXq",
        "outputId": "72e58e33-aee4-48e0-e463-03c875e7b56b",
        "colab": {
          "base_uri": "https://localhost:8080/",
          "height": 718
        }
      },
      "source": [
        "# TODO  \n",
        "plt.figure(1, figsize=(6,12))\n",
        "\n",
        "plt.subplot(311)\n",
        "plt.plot(data['RM'], prices, 'ro');\n",
        "plt.xlabel('Average number of rooms')\n",
        "plt.ylabel('Prices')\n",
        "\n",
        "plt.subplot(312)\n",
        "plt.plot(data['LSTAT'], prices, 'bo')\n",
        "plt.xlabel('Lower class owner percentage')\n",
        "plt.ylabel('Prices')\n",
        "\n",
        "plt.subplot(313)\n",
        "plt.plot(data['PTRATIO'], prices, 'go')\n",
        "plt.xlabel('Ratio of students to teacher')\n",
        "plt.ylabel('Prices');"
      ],
      "execution_count": 0,
      "outputs": [
        {
          "output_type": "display_data",
          "data": {
            "image/png": "[encoded data removed]",
            "text/plain": [
              "<Figure size 432x864 with 3 Axes>"
            ]
          },
          "metadata": {
            "tags": []
          }
        }
      ]
    },
    {
      "cell_type": "markdown",
      "metadata": {
        "colab_type": "text",
        "id": "h0f5A4FaDHXs"
      },
      "source": [
        "**Answer**:    TODO  \n",
        "Overall, we could see there is a trend that increasing in the average number of rooms would lead to prices climbing, while increasing in the lower class owner percentage would lead to prices dropping. Though the linear relationship between the ratio of students to teachers and prices is not as well aligned as in the second plot, it is still fair to say that generally increasig of ratio would lead to decreasing of prices. "
      ]
    },
    {
      "cell_type": "markdown",
      "metadata": {
        "colab_type": "text",
        "id": "Bj79xbTWDHXt"
      },
      "source": [
        "----\n",
        "\n",
        "## 4. Develope a Model"
      ]
    },
    {
      "cell_type": "markdown",
      "metadata": {
        "colab_type": "text",
        "id": "4YkO_pRUDHXt"
      },
      "source": [
        "Split data to get training and testing Data."
      ]
    },
    {
      "cell_type": "code",
      "metadata": {
        "colab_type": "code",
        "id": "7UZ4Sv9yDHXu",
        "colab": {}
      },
      "source": [
        "# TODO\n",
        "from sklearn.model_selection import train_test_split\n",
        "from sklearn import preprocessing\n",
        "\n",
        "# split train and test\n",
        "X_train, X_test, y_train, y_test = train_test_split(features, prices, test_size=0.2, random_state=99)\n",
        "\n",
        "# Get column names first\n",
        "names = features.columns\n",
        "\n",
        "# Create the Scaler object\n",
        "scaler = preprocessing.StandardScaler()\n",
        "\n",
        "# Fit your data on the scaler object\n",
        "X_train = scaler.fit_transform(X_train)\n",
        "X_train = pd.DataFrame(X_train, columns=names)\n",
        "\n",
        "X_test = scaler.transform(X_test)\n",
        "X_test = pd.DataFrame(X_test, columns=names)"
      ],
      "execution_count": 0,
      "outputs": []
    },
    {
      "cell_type": "markdown",
      "metadata": {
        "colab_type": "text",
        "id": "8wRkFJgqgzQ0"
      },
      "source": [
        "Train the Model."
      ]
    },
    {
      "cell_type": "code",
      "metadata": {
        "colab_type": "code",
        "id": "SgF86DJVg8xA",
        "colab": {}
      },
      "source": [
        "# TODO\n",
        "# build a linear regrssion model\n",
        "from sklearn.linear_model import LinearRegression\n",
        "lm = LinearRegression()"
      ],
      "execution_count": 0,
      "outputs": []
    },
    {
      "cell_type": "markdown",
      "metadata": {
        "colab_type": "text",
        "id": "l5E8OPLuhIcx"
      },
      "source": [
        "Train/fit **lm** on the training data."
      ]
    },
    {
      "cell_type": "code",
      "metadata": {
        "colab_type": "code",
        "id": "Jx6Jto72hRSG",
        "outputId": "725db6d1-0bb3-430a-a855-d9a830820a6f",
        "colab": {
          "base_uri": "https://localhost:8080/",
          "height": 34
        }
      },
      "source": [
        "# TODO  \n",
        "lm.fit(X_train, y_train)"
      ],
      "execution_count": 0,
      "outputs": [
        {
          "output_type": "execute_result",
          "data": {
            "text/plain": [
              "LinearRegression(copy_X=True, fit_intercept=True, n_jobs=None, normalize=False)"
            ]
          },
          "metadata": {
            "tags": []
          },
          "execution_count": 15
        }
      ]
    },
    {
      "cell_type": "markdown",
      "metadata": {
        "colab_type": "text",
        "id": "3-EQi0yniFee"
      },
      "source": [
        "Print out the coefficients of the model, use **.coef_**."
      ]
    },
    {
      "cell_type": "code",
      "metadata": {
        "colab_type": "code",
        "id": "s0i1K97MiEcA",
        "outputId": "063c5e8b-4ff8-469b-f45d-18311809bc07",
        "colab": {
          "base_uri": "https://localhost:8080/",
          "height": 34
        }
      },
      "source": [
        "# TODO  \n",
        "lm.coef_"
      ],
      "execution_count": 0,
      "outputs": [
        {
          "output_type": "execute_result",
          "data": {
            "text/plain": [
              "array([ 50425.71129494, -81465.83448936, -46441.15289309])"
            ]
          },
          "metadata": {
            "tags": []
          },
          "execution_count": 16
        }
      ]
    },
    {
      "cell_type": "markdown",
      "metadata": {
        "colab_type": "text",
        "id": "ZIqo50ALiPsh"
      },
      "source": [
        "Display a dataframe with the features and their corresponding coefficients in descending order. Think about how would you interprete the results here."
      ]
    },
    {
      "cell_type": "code",
      "metadata": {
        "colab_type": "code",
        "id": "cyexS-h0iQNE",
        "outputId": "60816029-849e-4874-cedd-ce0d1e672b47",
        "colab": {
          "base_uri": "https://localhost:8080/",
          "height": 136
        }
      },
      "source": [
        "# TODO\n",
        "coef_df = pd.DataFrame({\"Feature\": names, \"Coefficient\": lm.coef_}, \n",
        "                       columns=[\"Feature\", \"Coefficient\"])\n",
        "\n",
        "coef_df.sort_values(\"Coefficient\", ascending = 0)\n"
      ],
      "execution_count": 0,
      "outputs": [
        {
          "output_type": "execute_result",
          "data": {
            "text/html": [
              "<div>\n",
              "<style scoped>\n",
              "    .dataframe tbody tr th:only-of-type {\n",
              "        vertical-align: middle;\n",
              "    }\n",
              "\n",
              "    .dataframe tbody tr th {\n",
              "        vertical-align: top;\n",
              "    }\n",
              "\n",
              "    .dataframe thead th {\n",
              "        text-align: right;\n",
              "    }\n",
              "</style>\n",
              "<table border=\"1\" class=\"dataframe\">\n",
              "  <thead>\n",
              "    <tr style=\"text-align: right;\">\n",
              "      <th></th>\n",
              "      <th>Feature</th>\n",
              "      <th>Coefficient</th>\n",
              "    </tr>\n",
              "  </thead>\n",
              "  <tbody>\n",
              "    <tr>\n",
              "      <th>0</th>\n",
              "      <td>RM</td>\n",
              "      <td>50425.711295</td>\n",
              "    </tr>\n",
              "    <tr>\n",
              "      <th>2</th>\n",
              "      <td>PTRATIO</td>\n",
              "      <td>-46441.152893</td>\n",
              "    </tr>\n",
              "    <tr>\n",
              "      <th>1</th>\n",
              "      <td>LSTAT</td>\n",
              "      <td>-81465.834489</td>\n",
              "    </tr>\n",
              "  </tbody>\n",
              "</table>\n",
              "</div>"
            ],
            "text/plain": [
              "   Feature   Coefficient\n",
              "0       RM  50425.711295\n",
              "2  PTRATIO -46441.152893\n",
              "1    LSTAT -81465.834489"
            ]
          },
          "metadata": {
            "tags": []
          },
          "execution_count": 17
        }
      ]
    },
    {
      "cell_type": "markdown",
      "metadata": {
        "colab_type": "text",
        "id": "r7OAaVDIi1mK"
      },
      "source": [
        "## 5. Predict the Test Data\n",
        "\n",
        "Now we have a trained model, let's make some predictions and evaluate the model's performance."
      ]
    },
    {
      "cell_type": "markdown",
      "metadata": {
        "colab_type": "text",
        "id": "p8yMx7v_kNwH"
      },
      "source": [
        "Use **lm.predict( )** to predict the prices for **X_test** data set."
      ]
    },
    {
      "cell_type": "code",
      "metadata": {
        "colab_type": "code",
        "id": "941FZ-NIklME",
        "colab": {}
      },
      "source": [
        "# TODO\n",
        "y_pred = lm.predict(X_test)"
      ],
      "execution_count": 0,
      "outputs": []
    },
    {
      "cell_type": "markdown",
      "metadata": {
        "colab_type": "text",
        "id": "qxU2Xl7Wkm9E"
      },
      "source": [
        "Create a scatterplot of **y_test** versus the predicted values."
      ]
    },
    {
      "cell_type": "code",
      "metadata": {
        "colab_type": "code",
        "id": "Wpk6yAbskxK1",
        "outputId": "feb24871-41f1-4942-928f-89bdda744253",
        "colab": {
          "base_uri": "https://localhost:8080/",
          "height": 459
        }
      },
      "source": [
        "# TODO\n",
        "plt.figure(figsize=[7, 7])\n",
        "plt.scatter(y_test, y_pred)\n",
        "plt.xlabel(\"y_test\")\n",
        "plt.ylabel(\"y_pred\")\n",
        "plt.xlim([100000, 1000000])\n",
        "plt.ylim([100000, 1000000])\n",
        "plt.title(\"y_test vs y_pred\")\n",
        "plt.show()"
      ],
      "execution_count": 0,
      "outputs": [
        {
          "output_type": "display_data",
          "data": {
            "image/png": "[encoded data removed]",
            "text/plain": [
              "<Figure size 504x504 with 1 Axes>"
            ]
          },
          "metadata": {
            "tags": []
          }
        }
      ]
    },
    {
      "cell_type": "markdown",
      "metadata": {
        "colab_type": "text",
        "id": "7HCCt_TilKe0"
      },
      "source": [
        "## 6. Evaluate the Model"
      ]
    },
    {
      "cell_type": "markdown",
      "metadata": {
        "colab_type": "text",
        "id": "XZgX2R2XlpTp"
      },
      "source": [
        "Let's evaluate the model performance by calculating the $R^2$.  "
      ]
    },
    {
      "cell_type": "code",
      "metadata": {
        "colab_type": "code",
        "id": "1hUvvSWkmdi2",
        "colab": {}
      },
      "source": [
        "# TODO import r2_score\n",
        "from sklearn.metrics import r2_score\n",
        "\n",
        "def performance_metric(y_true, y_predict):\n",
        "    \"\"\" Calculates and returns the performance score between \n",
        "        true and predicted values based on the metric chosen. \"\"\"\n",
        "    \n",
        "    # TODO: Calculate the performance score between 'y_true' and 'y_predict'\n",
        "    score = r2_score(y_true, y_predict)\n",
        "    \n",
        "    # Return the score\n",
        "    return score\n",
        "  "
      ],
      "execution_count": 0,
      "outputs": []
    },
    {
      "cell_type": "markdown",
      "metadata": {
        "colab_type": "text",
        "id": "OrWSj7y0muYE"
      },
      "source": [
        "Use `Performance_metric` function to calculate the test dataset's $R^2$."
      ]
    },
    {
      "cell_type": "code",
      "metadata": {
        "colab_type": "code",
        "id": "omh7zxKinCTj",
        "outputId": "87f1c7f6-8393-42a8-b87c-8931ba905358",
        "colab": {
          "base_uri": "https://localhost:8080/",
          "height": 34
        }
      },
      "source": [
        "# TODO  \n",
        "R_2 = round(performance_metric(y_test, y_pred),4)\n",
        "print(\"This models R^2: {}\".format(R_2))\n"
      ],
      "execution_count": 0,
      "outputs": [
        {
          "output_type": "stream",
          "text": [
            "This models R^2: 0.6723\n"
          ],
          "name": "stdout"
        }
      ]
    },
    {
      "cell_type": "markdown",
      "metadata": {
        "colab_type": "text",
        "id": "wEbpNqchDHXy"
      },
      "source": [
        "Would you consider this model to have successfully captured the variation of the target variable? Why or why not?\n",
        "\n",
        "**Hint:**  \n",
        "The $R^2$ score is the proportion of the variance in the dependent variable that is predictable from the independent variable. In other words:\n",
        "* $ R^2$ score of 0 means that the dependent variable cannot be predicted from the independent variable.\n",
        "* $R^2$ score of 1 means the dependent variable can be predicted from the independent variable.\n",
        "* $R^2$ score between 0 and 1 indicates the extent to which the dependent variable is predictable. \n",
        "* $R^2$ score of 0.40 means that 40 percent of the variance in Y is predictable from X."
      ]
    },
    {
      "cell_type": "markdown",
      "metadata": {
        "colab_type": "text",
        "id": "CenQ15UgDHXz"
      },
      "source": [
        "**Answer:**   TODO  \n",
        "This model has a R^2 as 0.6723, which means 67.23% of the variance in the target variable of this particular dataset can be successfully predictabel from X.   \n",
        "\n",
        "R^2 can range from 0 to 1 and usually the higher the value is the more variance in the target variable can be interpreted by the independent variables. R^2 is also biased by the number of predictors in the model, and its value never decreases as more predictors are added. If the R^2 for training dataset is very high it could still be overfitting, and the model may merely catch the random noise in the dataset. Adjusted R^2 can help to remove the effect of number of predictors on the R^2 value, which is an unbiased estimation. \n",
        "\n",
        "Therefore, given a R^2 as 0.6723 which is way below 1, there is still room to improve the model's performance. And we should also check the adjusted R^2 and predicted R^2 to determine a regression model's robustness."
      ]
    },
    {
      "cell_type": "markdown",
      "metadata": {
        "id": "k9fMD5Le0tK9",
        "colab_type": "text"
      },
      "source": [
        "## THE END, WELL DONE!"
      ]
    },
    {
      "cell_type": "markdown",
      "metadata": {
        "colab_type": "text",
        "id": "0ZvPvAgUlh6Q"
      },
      "source": [
        "## Submission"
      ]
    },
    {
      "cell_type": "markdown",
      "metadata": {
        "colab_type": "text",
        "id": "ckQTJn2uth60"
      },
      "source": [
        "Download completed **Week7_LinearRegression_Homework.ipynb** from Google Colab and commit to your personal Github repo you shared with the faculty."
      ]
    }
  ]
}